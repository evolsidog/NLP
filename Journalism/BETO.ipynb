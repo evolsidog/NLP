{
 "cells": [
  {
   "cell_type": "markdown",
   "id": "b4d68ab8",
   "metadata": {},
   "source": [
    "https://huggingface.co/LeoCordoba/beto2beto"
   ]
  },
  {
   "cell_type": "markdown",
   "id": "d16bdf2d",
   "metadata": {},
   "source": [
    "example in https://colab.research.google.com/drive/18a2ZfF1e_Kyyydlv8INQIkJbv294xcAm?usp=sharing#scrollTo=g5kE9vTcEpR6"
   ]
  },
  {
   "cell_type": "code",
   "execution_count": 11,
   "id": "b5b78b17",
   "metadata": {},
   "outputs": [],
   "source": [
    "from transformers import AutoTokenizer, EncoderDecoderModel"
   ]
  },
  {
   "cell_type": "code",
   "execution_count": 12,
   "id": "457aba88",
   "metadata": {},
   "outputs": [],
   "source": [
    "tokenizer = AutoTokenizer.from_pretrained(\"LeoCordoba/beto2beto\")"
   ]
  },
  {
   "cell_type": "code",
   "execution_count": 13,
   "id": "fa554fc2",
   "metadata": {},
   "outputs": [],
   "source": [
    "model = EncoderDecoderModel.from_pretrained(\"LeoCordoba/beto2beto\")"
   ]
  },
  {
   "cell_type": "code",
   "execution_count": 38,
   "id": "c46858be",
   "metadata": {},
   "outputs": [],
   "source": [
    "def generate_text(text, model):\n",
    "    inputs = tokenizer([text], padding=\"max_length\", truncation=True, max_length=40, return_tensors=\"pt\")\n",
    "    input_ids = inputs.input_ids# .to(\"cuda\")\n",
    "    \n",
    "    # attention_mask = inputs.attention_mask.to(\"cuda\")\n",
    "    \"\"\"\n",
    "    outputs = model.generate(input_ids,\n",
    "                         early_stopping=True,\n",
    "                         do_sample=False,\n",
    "                         top_k=0, top_p=0.8,\n",
    "                         max_length=128,\n",
    "                         min_length=25,\n",
    "                         num_return_sequences=1,\n",
    "                         repetition_penalty=4.0,\n",
    "                         no_repeat_ngram_size=5)\n",
    "    \"\"\"\n",
    "\n",
    "    outputs = model.generate(input_ids,\n",
    "                         early_stopping=True,\n",
    "                         do_sample=False,\n",
    "                         temperature=3,\n",
    "                         # top_k=6, \n",
    "                         # top_p=0.9,\n",
    "                         num_beams=3,\n",
    "                         max_length=256,\n",
    "                         min_length=128,\n",
    "                         num_return_sequences=1,\n",
    "                         repetition_penalty=3.0,\n",
    "                         no_repeat_ngram_size=4)\n",
    "    \n",
    "    # all special tokens including will be removed\n",
    "    output_str = tokenizer.batch_decode(outputs, skip_special_tokens=False)\n",
    "\n",
    "    return output_str"
   ]
  },
  {
   "cell_type": "code",
   "execution_count": 15,
   "id": "42e31ca1",
   "metadata": {},
   "outputs": [
    {
     "data": {
      "text/plain": [
       "['[CLS] en todo el mundo y que son utilizadas por millones de personas a nivel mundial. sin embargo, las criptomonedas se han convertido en un problema para muchos paises debido a la falta de acceso a los mercados financieros internacionales. segun datos del banco central europeo ( bce ), hasta finales de 2018 habian circulado mas de 1. 000 millones de bitcoins, lo que supone una caida del 40 [UNK] respecto al ano anterior. ademas, este tipo de moneda virtual ha aumentado su popularidad entre los jovenes, sobre todo entre los menores de 25 anos, ya que tiene un precio medio de 10 euros politica [SEP]']"
      ]
     },
     "execution_count": 15,
     "metadata": {},
     "output_type": "execute_result"
    }
   ],
   "source": [
    "generate_text(\"Las criptomonedas son monedas que se usan cada vez mas\", model)"
   ]
  },
  {
   "cell_type": "code",
   "execution_count": 39,
   "id": "3e6b4ed7",
   "metadata": {},
   "outputs": [
    {
     "data": {
      "text/plain": [
       "['[CLS] en la primera parte, el real madrid se puso por delante con un golazo de benzema a falta de dos minutos para el final del primer tiempo. los merengues no pudieron hacer nada ante su aficion y tuvieron que remontar una desventaja de 1 - 0. partido de gran rivalidad entre madridistas y leizpig, 2 goles minutos despues, el real valladolid se puso por encima con un gol de benzemo a falta de tres minutos para el comienzo del segundo tiempo. los madrilenos no pudieron hacer mucho ante su aficion pero si hicieron valer su condicion de favoritos al titulo liguero. queda prohibida toda reproduccion sin permiso escrito de la empresa a los efectos del articulo 32. 1, parrafo segundo, de la ley de propiedad intelectual. asimismo, a los efectos establecidos en el articulo 33. 1, apartado 3, de la legislacion sobre contenidos tecnicos, editora mival, expresamente se opone a la consideracion como citas de las reproducciones periodicas efectuadas en forma de resenas o materialmente reproducidos, esta publicacion no puede ser, ni reproducir, copiar, copiar, transmitir, modificar, reproducir, distribuir o utilizar de cualquier forma con la finalidad de proteger a los usuarios a los efectos previstos en el articulo 32']"
      ]
     },
     "execution_count": 39,
     "metadata": {},
     "output_type": "execute_result"
    }
   ],
   "source": [
    "generate_text(\"partido Madrid - Leizpig, Gana el Madrid, 2 goles minutos finales\", model)"
   ]
  },
  {
   "cell_type": "code",
   "execution_count": 40,
   "id": "a0935516",
   "metadata": {},
   "outputs": [
    {
     "data": {
      "text/plain": [
       "['[CLS] en el bernabeu, 18 : 45 horas ( hora peninsular espanola ) [UNK] real madrid y atletico de madrid se enfrentan en un partido que promete ser muy igualado. los dos equipos llegan a este encuentro con la intencion de sumar tres puntos que les acerquen a la zona alta de la clasificacion. foto : getty images. sin embargo, no es una victoria facil para ambos conjuntos, ya que ninguno de ellos ha ganado ningun partido en lo que va de temporada. por su parte, el equipo de zinedine zidane llega al camp nou con las bajas seguras de noticias relacionadas [SEP]']"
      ]
     },
     "execution_count": 40,
     "metadata": {},
     "output_type": "execute_result"
    }
   ],
   "source": [
    "generate_text(\"Real Madrid - Barcelona, jornada 5, empate 1-1, aburrido, goles Benzema y lewandowski\", model)"
   ]
  },
  {
   "cell_type": "code",
   "execution_count": 37,
   "id": "600031a4",
   "metadata": {},
   "outputs": [],
   "source": [
    "# T5"
   ]
  },
  {
   "cell_type": "code",
   "execution_count": 3,
   "id": "c6a93674",
   "metadata": {},
   "outputs": [],
   "source": [
    "# !pip install sentencepiece"
   ]
  },
  {
   "cell_type": "code",
   "execution_count": 1,
   "id": "883d27b7",
   "metadata": {},
   "outputs": [],
   "source": [
    "from transformers import AutoModelWithLMHead, AutoTokenizer"
   ]
  },
  {
   "cell_type": "code",
   "execution_count": 2,
   "id": "a0b9fbdc",
   "metadata": {},
   "outputs": [
    {
     "name": "stderr",
     "output_type": "stream",
     "text": [
      "c:\\users\\victor.cordero\\datascience\\pocs\\venv\\lib\\site-packages\\transformers\\models\\auto\\modeling_auto.py:1062: FutureWarning: The class `AutoModelWithLMHead` is deprecated and will be removed in a future version. Please use `AutoModelForCausalLM` for causal language models, `AutoModelForMaskedLM` for masked language models and `AutoModelForSeq2SeqLM` for encoder-decoder models.\n",
      "  warnings.warn(\n"
     ]
    },
    {
     "data": {
      "application/vnd.jupyter.widget-view+json": {
       "model_id": "0bfc076031ab49a6931aa0b30a0ac862",
       "version_major": 2,
       "version_minor": 0
      },
      "text/plain": [
       "Downloading:   0%|          | 0.00/1.19G [00:00<?, ?B/s]"
      ]
     },
     "metadata": {},
     "output_type": "display_data"
    },
    {
     "name": "stderr",
     "output_type": "stream",
     "text": [
      "c:\\users\\victor.cordero\\datascience\\pocs\\venv\\lib\\site-packages\\huggingface_hub\\file_download.py:123: UserWarning: `huggingface_hub` cache-system uses symlinks by default to efficiently store duplicated files but your machine does not support them in C:\\Users\\victor.cordero\\.cache\\huggingface\\hub. Caching files will still work but in a degraded version that might require more space on your disk. This warning can be disabled by setting the `HF_HUB_DISABLE_SYMLINKS_WARNING` environment variable. For more details, see https://huggingface.co/docs/huggingface_hub/how-to-cache#limitations.\n",
      "To support symlinks on Windows, you either need to activate Developer Mode or to run Python as an administrator. In order to see activate developer mode, see this article: https://docs.microsoft.com/en-us/windows/apps/get-started/enable-your-device-for-development\n",
      "  warnings.warn(message)\n"
     ]
    }
   ],
   "source": [
    "tokenizer_t5 = AutoTokenizer.from_pretrained(\"mrm8488/t5-base-finetuned-common_gen\")\n",
    "model_t5 = AutoModelWithLMHead.from_pretrained(\"mrm8488/t5-base-finetuned-common_gen\")"
   ]
  },
  {
   "cell_type": "code",
   "execution_count": 4,
   "id": "e801d9d0",
   "metadata": {},
   "outputs": [],
   "source": [
    "def gen_sentence(words, max_length=128):\n",
    "    input_text = words\n",
    "    features = tokenizer_t5([input_text], return_tensors='pt')\n",
    "\n",
    "    output = model_t5.generate(input_ids=features['input_ids'], \n",
    "               attention_mask=features['attention_mask'],\n",
    "               max_length=max_length)\n",
    "\n",
    "    return tokenizer_t5.decode(output[0], skip_special_tokens=True)"
   ]
  },
  {
   "cell_type": "code",
   "execution_count": 5,
   "id": "b610e7dd",
   "metadata": {},
   "outputs": [
    {
     "data": {
      "text/plain": [
       "'digging a hole in the ground to plant trees'"
      ]
     },
     "execution_count": 5,
     "metadata": {},
     "output_type": "execute_result"
    }
   ],
   "source": [
    "gen_sentence(\"tree plant ground hole dig\")"
   ]
  },
  {
   "cell_type": "code",
   "execution_count": 6,
   "id": "bc96ce5e",
   "metadata": {},
   "outputs": [
    {
     "data": {
      "text/plain": [
       "'aburrido, jornada and lewandowski are all on the pitch for the match against real madrid.'"
      ]
     },
     "execution_count": 6,
     "metadata": {},
     "output_type": "execute_result"
    }
   ],
   "source": [
    "gen_sentence(\"Real Madrid - Barcelona, jornada 5, empate 1-1, aburrido, goles Benzema y lewandowski\")"
   ]
  },
  {
   "cell_type": "code",
   "execution_count": null,
   "id": "931a76be",
   "metadata": {},
   "outputs": [],
   "source": []
  }
 ],
 "metadata": {
  "kernelspec": {
   "display_name": "Python 3 (ipykernel)",
   "language": "python",
   "name": "python3"
  },
  "language_info": {
   "codemirror_mode": {
    "name": "ipython",
    "version": 3
   },
   "file_extension": ".py",
   "mimetype": "text/x-python",
   "name": "python",
   "nbconvert_exporter": "python",
   "pygments_lexer": "ipython3",
   "version": "3.9.5"
  }
 },
 "nbformat": 4,
 "nbformat_minor": 5
}
