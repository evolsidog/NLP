{
 "cells": [
  {
   "cell_type": "code",
   "execution_count": 28,
   "metadata": {},
   "outputs": [],
   "source": [
    "import tweepy\n",
    "import yaml\n",
    "import json\n",
    "from datetime import datetime as dt, timedelta\n",
    "import pickle\n",
    "import sys\n",
    "from wordcloud import WordCloud\n",
    "import matplotlib.pyplot as plt"
   ]
  },
  {
   "cell_type": "code",
   "execution_count": 3,
   "metadata": {},
   "outputs": [],
   "source": [
    "with open('credentials.yaml') as f:\n",
    "    twitter_credentials = yaml.load(f, Loader=yaml.loader.SafeLoader)\n",
    "\n",
    "api_key = twitter_credentials['API Key']\n",
    "api_key_secret = twitter_credentials['Api Key Secret']\n",
    "bearer_token = twitter_credentials['Bearer Token']\n"
   ]
  },
  {
   "cell_type": "markdown",
   "metadata": {},
   "source": [
    "### V2"
   ]
  },
  {
   "cell_type": "code",
   "execution_count": 4,
   "metadata": {},
   "outputs": [
    {
     "data": {
      "text/plain": [
       "\"\\n# https://dev.to/twitterdev/a-comprehensive-guide-for-using-the-twitter-api-v2-using-tweepy-in-python-15d9\\nquery = '#covid -is:retweet lang:es'\\nmax_results = 10\\n\\n# min_faves, min_retweets or place_country are not availables in my current subscription\\n\\ntweets = client.search_recent_tweets(query=query,\\n                                     tweet_fields=['created_at', 'public_metrics'], # 'context_annotations', 'entities' too\\n                                     max_results=max_results)\\n\\nfor tweet in tweets.data:\\n    # print(tweet.text)\\n    # if len(tweet.context_annotations) > 0:\\n    #     print(tweet.context_annotations)\\n    if len(tweet.public_metrics) > 0:\\n        print(tweet.public_metrics)\\n\""
      ]
     },
     "execution_count": 4,
     "metadata": {},
     "output_type": "execute_result"
    }
   ],
   "source": [
    "\"\"\"\n",
    "# https://dev.to/twitterdev/a-comprehensive-guide-for-using-the-twitter-api-v2-using-tweepy-in-python-15d9\n",
    "query = '#covid -is:retweet lang:es'\n",
    "max_results = 10\n",
    "\n",
    "# min_faves, min_retweets or place_country are not availables in my current subscription\n",
    "\n",
    "tweets = client.search_recent_tweets(query=query,\n",
    "                                     tweet_fields=['created_at', 'public_metrics'], # 'context_annotations', 'entities' too\n",
    "                                     max_results=max_results)\n",
    "\n",
    "for tweet in tweets.data:\n",
    "    # print(tweet.text)\n",
    "    # if len(tweet.context_annotations) > 0:\n",
    "    #     print(tweet.context_annotations)\n",
    "    if len(tweet.public_metrics) > 0:\n",
    "        print(tweet.public_metrics)\n",
    "\"\"\""
   ]
  },
  {
   "cell_type": "markdown",
   "metadata": {},
   "source": [
    "### V1.1 Trending Topics"
   ]
  },
  {
   "cell_type": "code",
   "execution_count": 5,
   "metadata": {},
   "outputs": [
    {
     "name": "stdout",
     "output_type": "stream",
     "text": [
      "dict_keys(['trends', 'as_of', 'created_at', 'locations'])\n",
      "50\n"
     ]
    }
   ],
   "source": [
    "\n",
    "auth = tweepy.OAuth2BearerHandler(bearer_token)\n",
    "api = tweepy.API(auth)\n",
    "\n",
    "# https://developer.twitter.com/en/docs/twitter-api/v1/trends/locations-with-trending-topics/api-reference/get-trends-available\n",
    "public_tweets = api.get_place_trends(id=23424950) # spain\n",
    "print(public_tweets[0].keys())\n",
    "print(len(public_tweets[0]['trends']))\n"
   ]
  },
  {
   "cell_type": "code",
   "execution_count": 6,
   "metadata": {},
   "outputs": [
    {
     "name": "stdout",
     "output_type": "stream",
     "text": [
      "[\n",
      "    {\n",
      "        \"trends\": [\n",
      "            {\n",
      "                \"name\": \"#BizumXtralifePokemon\",\n",
      "                \"url\": \"http://twitter.com/search?q=%23BizumXtralifePokemon\",\n",
      "                \"promoted_content\": null,\n",
      "                \"query\": \"%23BizumXtralifePokemon\",\n",
      "                \"tweet_volume\": null\n",
      "            },\n",
      "            {\n",
      "                \"name\": \"Froil\\u00e1n\",\n",
      "                \"url\": \"http://twitter.com/search?q=Froil%C3%A1n\",\n",
      "                \"promoted_content\": null,\n",
      "                \"query\": \"Froil%C3%A1n\",\n",
      "                \"tweet_volume\": 24699\n",
      "            },\n",
      "            {\n",
      "                \"name\": \"#LaIslaDeLasTentaciones15\",\n",
      "                \"url\": \"http://twitter.com/search?q=%23LaIslaDeLasTentaciones15\",\n",
      "                \"promoted_content\": null,\n",
      "                \"query\": \"%23LaIslaDeLasTentaciones15\",\n",
      "                \"tweet_volume\": null\n",
      "            },\n",
      "            {\n",
      "                \"name\": \"Feliz Navidad\",\n",
      "                \"url\": \"http://twitter.com/search?q=%22Feliz+Navidad%22\",\n",
      "                \"promoted_content\": null,\n",
      "                \"query\": \"%22Feliz+Navidad%22\",\n",
      "                \"tweet_volume\": 167090\n",
      "            },\n",
      "            {\n",
      "                \"name\": \"#ChollometroXHonor\",\n",
      "                \"url\": \"http://twitter.com/search?q=%23ChollometroXHonor\",\n",
      "                \"promoted_content\": null,\n",
      "                \"query\": \"%23ChollometroXHonor\",\n",
      "                \"tweet_volume\": null\n",
      "            },\n",
      "            {\n",
      "                \"name\": \"#FelizMartes\",\n",
      "                \"url\": \"http://twitter.com/search?q=%23FelizMartes\",\n",
      "                \"promoted_content\": null,\n",
      "                \"query\": \"%23FelizMartes\",\n",
      "                \"tweet_volume\": null\n",
      "            },\n",
      "            {\n",
      "                \"name\": \"Borja Iglesias\",\n",
      "                \"url\": \"http://twitter.com/search?q=%22Borja+Iglesias%22\",\n",
      "                \"promoted_content\": null,\n",
      "                \"query\": \"%22Borja+Iglesias%22\",\n",
      "                \"tweet_volume\": null\n",
      "            },\n",
      "            {\n",
      "                \"name\": \"#CestaVodafone\",\n",
      "                \"url\": \"http://twitter.com/search?q=%23CestaVodafone\",\n",
      "                \"promoted_content\": null,\n",
      "                \"query\": \"%23CestaVodafone\",\n",
      "                \"tweet_volume\": null\n",
      "            },\n",
      "            {\n",
      "                \"name\": \"Waka\",\n",
      "                \"url\": \"http://twitter.com/search?q=Waka\",\n",
      "                \"promoted_content\": null,\n",
      "                \"query\": \"Waka\",\n",
      "                \"tweet_volume\": 24456\n",
      "            },\n",
      "            {\n",
      "                \"name\": \"Arsenal\",\n",
      "                \"url\": \"http://twitter.com/search?q=Arsenal\",\n",
      "                \"promoted_content\": null,\n",
      "                \"query\": \"Arsenal\",\n",
      "                \"tweet_volume\": 410608\n",
      "            },\n",
      "            {\n",
      "                \"name\": \"La Pechotes\",\n",
      "                \"url\": \"http://twitter.com/search?q=%22La+Pechotes%22\",\n",
      "                \"promoted_content\": null,\n",
      "                \"query\": \"%22La+Pechotes%22\",\n",
      "                \"tweet_volume\": null\n",
      "            },\n",
      "            {\n",
      "                \"name\": \"San Juan Evangelista\",\n",
      "                \"url\": \"http://twitter.com/search?q=%22San+Juan+Evangelista%22\",\n",
      "                \"promoted_content\": null,\n",
      "                \"query\": \"%22San+Juan+Evangelista%22\",\n",
      "                \"tweet_volume\": null\n",
      "            },\n",
      "            {\n",
      "                \"name\": \"El Gobierno\",\n",
      "                \"url\": \"http://twitter.com/search?q=%22El+Gobierno%22\",\n",
      "                \"promoted_content\": null,\n",
      "                \"query\": \"%22El+Gobierno%22\",\n",
      "                \"tweet_volume\": 223910\n",
      "            },\n",
      "            {\n",
      "                \"name\": \"IVA al 0%\",\n",
      "                \"url\": \"http://twitter.com/search?q=%22IVA+al+0%25%22\",\n",
      "                \"promoted_content\": null,\n",
      "                \"query\": \"%22IVA+al+0%25%22\",\n",
      "                \"tweet_volume\": null\n",
      "            },\n",
      "            {\n",
      "                \"name\": \"Liverpool\",\n",
      "                \"url\": \"http://twitter.com/search?q=Liverpool\",\n",
      "                \"promoted_content\": null,\n",
      "                \"query\": \"Liverpool\",\n",
      "                \"tweet_volume\": 279186\n",
      "            },\n",
      "            {\n",
      "                \"name\": \"Glass Onion\",\n",
      "                \"url\": \"http://twitter.com/search?q=%22Glass+Onion%22\",\n",
      "                \"promoted_content\": null,\n",
      "                \"query\": \"%22Glass+Onion%22\",\n",
      "                \"tweet_volume\": 80976\n",
      "            },\n",
      "            {\n",
      "                \"name\": \"reyes\",\n",
      "                \"url\": \"http://twitter.com/search?q=reyes\",\n",
      "                \"promoted_content\": null,\n",
      "                \"query\": \"reyes\",\n",
      "                \"tweet_volume\": 36787\n",
      "            },\n",
      "            {\n",
      "                \"name\": \"Raoul\",\n",
      "                \"url\": \"http://twitter.com/search?q=Raoul\",\n",
      "                \"promoted_content\": null,\n",
      "                \"query\": \"Raoul\",\n",
      "                \"tweet_volume\": null\n",
      "            },\n",
      "            {\n",
      "                \"name\": \"Nochevieja\",\n",
      "                \"url\": \"http://twitter.com/search?q=Nochevieja\",\n",
      "                \"promoted_content\": null,\n",
      "                \"query\": \"Nochevieja\",\n",
      "                \"tweet_volume\": null\n",
      "            },\n",
      "            {\n",
      "                \"name\": \"Mateu Lahoz\",\n",
      "                \"url\": \"http://twitter.com/search?q=%22Mateu+Lahoz%22\",\n",
      "                \"promoted_content\": null,\n",
      "                \"query\": \"%22Mateu+Lahoz%22\",\n",
      "                \"tweet_volume\": null\n",
      "            },\n",
      "            {\n",
      "                \"name\": \"San Esteban\",\n",
      "                \"url\": \"http://twitter.com/search?q=%22San+Esteban%22\",\n",
      "                \"promoted_content\": null,\n",
      "                \"query\": \"%22San+Esteban%22\",\n",
      "                \"tweet_volume\": null\n",
      "            },\n",
      "            {\n",
      "                \"name\": \"Gakpo\",\n",
      "                \"url\": \"http://twitter.com/search?q=Gakpo\",\n",
      "                \"promoted_content\": null,\n",
      "                \"query\": \"Gakpo\",\n",
      "                \"tweet_volume\": 275441\n",
      "            },\n",
      "            {\n",
      "                \"name\": \"Cheque de 200\",\n",
      "                \"url\": \"http://twitter.com/search?q=%22Cheque+de+200%22\",\n",
      "                \"promoted_content\": null,\n",
      "                \"query\": \"%22Cheque+de+200%22\",\n",
      "                \"tweet_volume\": null\n",
      "            },\n",
      "            {\n",
      "                \"name\": \"Georgina\",\n",
      "                \"url\": \"http://twitter.com/search?q=Georgina\",\n",
      "                \"promoted_content\": null,\n",
      "                \"query\": \"Georgina\",\n",
      "                \"tweet_volume\": 32014\n",
      "            },\n",
      "            {\n",
      "                \"name\": \"The Economist\",\n",
      "                \"url\": \"http://twitter.com/search?q=%22The+Economist%22\",\n",
      "                \"promoted_content\": null,\n",
      "                \"query\": \"%22The+Economist%22\",\n",
      "                \"tweet_volume\": 15544\n",
      "            },\n",
      "            {\n",
      "                \"name\": \"Christmas\",\n",
      "                \"url\": \"http://twitter.com/search?q=Christmas\",\n",
      "                \"promoted_content\": null,\n",
      "                \"query\": \"Christmas\",\n",
      "                \"tweet_volume\": 2172630\n",
      "            },\n",
      "            {\n",
      "                \"name\": \"S\\u00e1nchez y D\\u00edaz\",\n",
      "                \"url\": \"http://twitter.com/search?q=%22S%C3%A1nchez+y+D%C3%ADaz%22\",\n",
      "                \"promoted_content\": null,\n",
      "                \"query\": \"%22S%C3%A1nchez+y+D%C3%ADaz%22\",\n",
      "                \"tweet_volume\": null\n",
      "            },\n",
      "            {\n",
      "                \"name\": \"El IVA\",\n",
      "                \"url\": \"http://twitter.com/search?q=%22El+IVA%22\",\n",
      "                \"promoted_content\": null,\n",
      "                \"query\": \"%22El+IVA%22\",\n",
      "                \"tweet_volume\": 23319\n",
      "            },\n",
      "            {\n",
      "                \"name\": \"Nochebuena\",\n",
      "                \"url\": \"http://twitter.com/search?q=Nochebuena\",\n",
      "                \"promoted_content\": null,\n",
      "                \"query\": \"Nochebuena\",\n",
      "                \"tweet_volume\": 14038\n",
      "            },\n",
      "            {\n",
      "                \"name\": \"Teide\",\n",
      "                \"url\": \"http://twitter.com/search?q=Teide\",\n",
      "                \"promoted_content\": null,\n",
      "                \"query\": \"Teide\",\n",
      "                \"tweet_volume\": null\n",
      "            },\n",
      "            {\n",
      "                \"name\": \"Mercadona\",\n",
      "                \"url\": \"http://twitter.com/search?q=Mercadona\",\n",
      "                \"promoted_content\": null,\n",
      "                \"query\": \"Mercadona\",\n",
      "                \"tweet_volume\": null\n",
      "            },\n",
      "            {\n",
      "                \"name\": \"Felices Fiestas\",\n",
      "                \"url\": \"http://twitter.com/search?q=%22Felices+Fiestas%22\",\n",
      "                \"promoted_content\": null,\n",
      "                \"query\": \"%22Felices+Fiestas%22\",\n",
      "                \"tweet_volume\": 23672\n",
      "            },\n",
      "            {\n",
      "                \"name\": \"Rosal\\u00eda\",\n",
      "                \"url\": \"http://twitter.com/search?q=Rosal%C3%ADa\",\n",
      "                \"promoted_content\": null,\n",
      "                \"query\": \"Rosal%C3%ADa\",\n",
      "                \"tweet_volume\": 10628\n",
      "            },\n",
      "            {\n",
      "                \"name\": \"Sara\",\n",
      "                \"url\": \"http://twitter.com/search?q=Sara\",\n",
      "                \"promoted_content\": null,\n",
      "                \"query\": \"Sara\",\n",
      "                \"tweet_volume\": 102841\n",
      "            },\n",
      "            {\n",
      "                \"name\": \"Manu\",\n",
      "                \"url\": \"http://twitter.com/search?q=Manu\",\n",
      "                \"promoted_content\": null,\n",
      "                \"query\": \"Manu\",\n",
      "                \"tweet_volume\": 37539\n",
      "            },\n",
      "            {\n",
      "                \"name\": \"Odegaard\",\n",
      "                \"url\": \"http://twitter.com/search?q=Odegaard\",\n",
      "                \"promoted_content\": null,\n",
      "                \"query\": \"Odegaard\",\n",
      "                \"tweet_volume\": 35310\n",
      "            },\n",
      "            {\n",
      "                \"name\": \"Nieves Concostrina\",\n",
      "                \"url\": \"http://twitter.com/search?q=%22Nieves+Concostrina%22\",\n",
      "                \"promoted_content\": null,\n",
      "                \"query\": \"%22Nieves+Concostrina%22\",\n",
      "                \"tweet_volume\": null\n",
      "            },\n",
      "            {\n",
      "                \"name\": \"Complutense\",\n",
      "                \"url\": \"http://twitter.com/search?q=Complutense\",\n",
      "                \"promoted_content\": null,\n",
      "                \"query\": \"Complutense\",\n",
      "                \"tweet_volume\": null\n",
      "            },\n",
      "            {\n",
      "                \"name\": \"UEFA\",\n",
      "                \"url\": \"http://twitter.com/search?q=UEFA\",\n",
      "                \"promoted_content\": null,\n",
      "                \"query\": \"UEFA\",\n",
      "                \"tweet_volume\": 12744\n",
      "            },\n",
      "            {\n",
      "                \"name\": \"Darwin N\\u00fa\\u00f1ez\",\n",
      "                \"url\": \"http://twitter.com/search?q=%22Darwin+N%C3%BA%C3%B1ez%22\",\n",
      "                \"promoted_content\": null,\n",
      "                \"query\": \"%22Darwin+N%C3%BA%C3%B1ez%22\",\n",
      "                \"tweet_volume\": 61848\n",
      "            },\n",
      "            {\n",
      "                \"name\": \"Nketiah\",\n",
      "                \"url\": \"http://twitter.com/search?q=Nketiah\",\n",
      "                \"promoted_content\": null,\n",
      "                \"query\": \"Nketiah\",\n",
      "                \"tweet_volume\": 42997\n",
      "            },\n",
      "            {\n",
      "                \"name\": \"Betis\",\n",
      "                \"url\": \"http://twitter.com/search?q=Betis\",\n",
      "                \"promoted_content\": null,\n",
      "                \"query\": \"Betis\",\n",
      "                \"tweet_volume\": null\n",
      "            },\n",
      "            {\n",
      "                \"name\": \"Cuca Gamarra\",\n",
      "                \"url\": \"http://twitter.com/search?q=%22Cuca+Gamarra%22\",\n",
      "                \"promoted_content\": null,\n",
      "                \"query\": \"%22Cuca+Gamarra%22\",\n",
      "                \"tweet_volume\": null\n",
      "            },\n",
      "            {\n",
      "                \"name\": \"Joao\",\n",
      "                \"url\": \"http://twitter.com/search?q=Joao\",\n",
      "                \"promoted_content\": null,\n",
      "                \"query\": \"Joao\",\n",
      "                \"tweet_volume\": 62091\n",
      "            },\n",
      "            {\n",
      "                \"name\": \"Aragon\\u00e9s\",\n",
      "                \"url\": \"http://twitter.com/search?q=Aragon%C3%A9s\",\n",
      "                \"promoted_content\": null,\n",
      "                \"query\": \"Aragon%C3%A9s\",\n",
      "                \"tweet_volume\": 11459\n",
      "            },\n",
      "            {\n",
      "                \"name\": \"IVA del 4%\",\n",
      "                \"url\": \"http://twitter.com/search?q=%22IVA+del+4%25%22\",\n",
      "                \"promoted_content\": null,\n",
      "                \"query\": \"%22IVA+del+4%25%22\",\n",
      "                \"tweet_volume\": null\n",
      "            },\n",
      "            {\n",
      "                \"name\": \"Arteta\",\n",
      "                \"url\": \"http://twitter.com/search?q=Arteta\",\n",
      "                \"promoted_content\": null,\n",
      "                \"query\": \"Arteta\",\n",
      "                \"tweet_volume\": 36197\n",
      "            },\n",
      "            {\n",
      "                \"name\": \"Kappah\",\n",
      "                \"url\": \"http://twitter.com/search?q=Kappah\",\n",
      "                \"promoted_content\": null,\n",
      "                \"query\": \"Kappah\",\n",
      "                \"tweet_volume\": null\n",
      "            },\n",
      "            {\n",
      "                \"name\": \"Lost Ark\",\n",
      "                \"url\": \"http://twitter.com/search?q=%22Lost+Ark%22\",\n",
      "                \"promoted_content\": null,\n",
      "                \"query\": \"%22Lost+Ark%22\",\n",
      "                \"tweet_volume\": null\n",
      "            },\n",
      "            {\n",
      "                \"name\": \"Quevedo\",\n",
      "                \"url\": \"http://twitter.com/search?q=Quevedo\",\n",
      "                \"promoted_content\": null,\n",
      "                \"query\": \"Quevedo\",\n",
      "                \"tweet_volume\": null\n",
      "            }\n",
      "        ],\n",
      "        \"as_of\": \"2022-12-27T14:57:11Z\",\n",
      "        \"created_at\": \"2022-12-22T07:09:06Z\",\n",
      "        \"locations\": [\n",
      "            {\n",
      "                \"name\": \"Spain\",\n",
      "                \"woeid\": 23424950\n",
      "            }\n",
      "        ]\n",
      "    }\n",
      "]\n"
     ]
    }
   ],
   "source": [
    "print(json.dumps(public_tweets, indent=4))"
   ]
  },
  {
   "cell_type": "code",
   "execution_count": 7,
   "metadata": {},
   "outputs": [
    {
     "data": {
      "text/plain": [
       "{'name': '#BizumXtralifePokemon',\n",
       " 'url': 'http://twitter.com/search?q=%23BizumXtralifePokemon',\n",
       " 'promoted_content': None,\n",
       " 'query': '%23BizumXtralifePokemon',\n",
       " 'tweet_volume': None}"
      ]
     },
     "execution_count": 7,
     "metadata": {},
     "output_type": "execute_result"
    }
   ],
   "source": [
    "trends = public_tweets[0]['trends']\n",
    "trends[0]"
   ]
  },
  {
   "cell_type": "code",
   "execution_count": 8,
   "metadata": {},
   "outputs": [
    {
     "data": {
      "text/plain": [
       "[{'name': 'Christmas',\n",
       "  'url': 'http://twitter.com/search?q=Christmas',\n",
       "  'promoted_content': None,\n",
       "  'query': 'Christmas',\n",
       "  'tweet_volume': 2172630},\n",
       " {'name': 'Arsenal',\n",
       "  'url': 'http://twitter.com/search?q=Arsenal',\n",
       "  'promoted_content': None,\n",
       "  'query': 'Arsenal',\n",
       "  'tweet_volume': 410608},\n",
       " {'name': 'Liverpool',\n",
       "  'url': 'http://twitter.com/search?q=Liverpool',\n",
       "  'promoted_content': None,\n",
       "  'query': 'Liverpool',\n",
       "  'tweet_volume': 279186},\n",
       " {'name': 'Gakpo',\n",
       "  'url': 'http://twitter.com/search?q=Gakpo',\n",
       "  'promoted_content': None,\n",
       "  'query': 'Gakpo',\n",
       "  'tweet_volume': 275441},\n",
       " {'name': 'El Gobierno',\n",
       "  'url': 'http://twitter.com/search?q=%22El+Gobierno%22',\n",
       "  'promoted_content': None,\n",
       "  'query': '%22El+Gobierno%22',\n",
       "  'tweet_volume': 223910},\n",
       " {'name': 'Feliz Navidad',\n",
       "  'url': 'http://twitter.com/search?q=%22Feliz+Navidad%22',\n",
       "  'promoted_content': None,\n",
       "  'query': '%22Feliz+Navidad%22',\n",
       "  'tweet_volume': 167090},\n",
       " {'name': 'Sara',\n",
       "  'url': 'http://twitter.com/search?q=Sara',\n",
       "  'promoted_content': None,\n",
       "  'query': 'Sara',\n",
       "  'tweet_volume': 102841},\n",
       " {'name': 'Glass Onion',\n",
       "  'url': 'http://twitter.com/search?q=%22Glass+Onion%22',\n",
       "  'promoted_content': None,\n",
       "  'query': '%22Glass+Onion%22',\n",
       "  'tweet_volume': 80976},\n",
       " {'name': 'Joao',\n",
       "  'url': 'http://twitter.com/search?q=Joao',\n",
       "  'promoted_content': None,\n",
       "  'query': 'Joao',\n",
       "  'tweet_volume': 62091},\n",
       " {'name': 'Darwin Núñez',\n",
       "  'url': 'http://twitter.com/search?q=%22Darwin+N%C3%BA%C3%B1ez%22',\n",
       "  'promoted_content': None,\n",
       "  'query': '%22Darwin+N%C3%BA%C3%B1ez%22',\n",
       "  'tweet_volume': 61848},\n",
       " {'name': 'Nketiah',\n",
       "  'url': 'http://twitter.com/search?q=Nketiah',\n",
       "  'promoted_content': None,\n",
       "  'query': 'Nketiah',\n",
       "  'tweet_volume': 42997},\n",
       " {'name': 'Manu',\n",
       "  'url': 'http://twitter.com/search?q=Manu',\n",
       "  'promoted_content': None,\n",
       "  'query': 'Manu',\n",
       "  'tweet_volume': 37539},\n",
       " {'name': 'reyes',\n",
       "  'url': 'http://twitter.com/search?q=reyes',\n",
       "  'promoted_content': None,\n",
       "  'query': 'reyes',\n",
       "  'tweet_volume': 36787},\n",
       " {'name': 'Arteta',\n",
       "  'url': 'http://twitter.com/search?q=Arteta',\n",
       "  'promoted_content': None,\n",
       "  'query': 'Arteta',\n",
       "  'tweet_volume': 36197},\n",
       " {'name': 'Odegaard',\n",
       "  'url': 'http://twitter.com/search?q=Odegaard',\n",
       "  'promoted_content': None,\n",
       "  'query': 'Odegaard',\n",
       "  'tweet_volume': 35310},\n",
       " {'name': 'Georgina',\n",
       "  'url': 'http://twitter.com/search?q=Georgina',\n",
       "  'promoted_content': None,\n",
       "  'query': 'Georgina',\n",
       "  'tweet_volume': 32014},\n",
       " {'name': 'Froilán',\n",
       "  'url': 'http://twitter.com/search?q=Froil%C3%A1n',\n",
       "  'promoted_content': None,\n",
       "  'query': 'Froil%C3%A1n',\n",
       "  'tweet_volume': 24699},\n",
       " {'name': 'Waka',\n",
       "  'url': 'http://twitter.com/search?q=Waka',\n",
       "  'promoted_content': None,\n",
       "  'query': 'Waka',\n",
       "  'tweet_volume': 24456},\n",
       " {'name': 'Felices Fiestas',\n",
       "  'url': 'http://twitter.com/search?q=%22Felices+Fiestas%22',\n",
       "  'promoted_content': None,\n",
       "  'query': '%22Felices+Fiestas%22',\n",
       "  'tweet_volume': 23672},\n",
       " {'name': 'El IVA',\n",
       "  'url': 'http://twitter.com/search?q=%22El+IVA%22',\n",
       "  'promoted_content': None,\n",
       "  'query': '%22El+IVA%22',\n",
       "  'tweet_volume': 23319},\n",
       " {'name': 'The Economist',\n",
       "  'url': 'http://twitter.com/search?q=%22The+Economist%22',\n",
       "  'promoted_content': None,\n",
       "  'query': '%22The+Economist%22',\n",
       "  'tweet_volume': 15544},\n",
       " {'name': 'Nochebuena',\n",
       "  'url': 'http://twitter.com/search?q=Nochebuena',\n",
       "  'promoted_content': None,\n",
       "  'query': 'Nochebuena',\n",
       "  'tweet_volume': 14038},\n",
       " {'name': 'UEFA',\n",
       "  'url': 'http://twitter.com/search?q=UEFA',\n",
       "  'promoted_content': None,\n",
       "  'query': 'UEFA',\n",
       "  'tweet_volume': 12744},\n",
       " {'name': 'Aragonés',\n",
       "  'url': 'http://twitter.com/search?q=Aragon%C3%A9s',\n",
       "  'promoted_content': None,\n",
       "  'query': 'Aragon%C3%A9s',\n",
       "  'tweet_volume': 11459},\n",
       " {'name': 'Rosalía',\n",
       "  'url': 'http://twitter.com/search?q=Rosal%C3%ADa',\n",
       "  'promoted_content': None,\n",
       "  'query': 'Rosal%C3%ADa',\n",
       "  'tweet_volume': 10628},\n",
       " {'name': '#BizumXtralifePokemon',\n",
       "  'url': 'http://twitter.com/search?q=%23BizumXtralifePokemon',\n",
       "  'promoted_content': None,\n",
       "  'query': '%23BizumXtralifePokemon',\n",
       "  'tweet_volume': 0},\n",
       " {'name': '#LaIslaDeLasTentaciones15',\n",
       "  'url': 'http://twitter.com/search?q=%23LaIslaDeLasTentaciones15',\n",
       "  'promoted_content': None,\n",
       "  'query': '%23LaIslaDeLasTentaciones15',\n",
       "  'tweet_volume': 0},\n",
       " {'name': '#ChollometroXHonor',\n",
       "  'url': 'http://twitter.com/search?q=%23ChollometroXHonor',\n",
       "  'promoted_content': None,\n",
       "  'query': '%23ChollometroXHonor',\n",
       "  'tweet_volume': 0},\n",
       " {'name': '#FelizMartes',\n",
       "  'url': 'http://twitter.com/search?q=%23FelizMartes',\n",
       "  'promoted_content': None,\n",
       "  'query': '%23FelizMartes',\n",
       "  'tweet_volume': 0},\n",
       " {'name': 'Borja Iglesias',\n",
       "  'url': 'http://twitter.com/search?q=%22Borja+Iglesias%22',\n",
       "  'promoted_content': None,\n",
       "  'query': '%22Borja+Iglesias%22',\n",
       "  'tweet_volume': 0},\n",
       " {'name': '#CestaVodafone',\n",
       "  'url': 'http://twitter.com/search?q=%23CestaVodafone',\n",
       "  'promoted_content': None,\n",
       "  'query': '%23CestaVodafone',\n",
       "  'tweet_volume': 0},\n",
       " {'name': 'La Pechotes',\n",
       "  'url': 'http://twitter.com/search?q=%22La+Pechotes%22',\n",
       "  'promoted_content': None,\n",
       "  'query': '%22La+Pechotes%22',\n",
       "  'tweet_volume': 0},\n",
       " {'name': 'San Juan Evangelista',\n",
       "  'url': 'http://twitter.com/search?q=%22San+Juan+Evangelista%22',\n",
       "  'promoted_content': None,\n",
       "  'query': '%22San+Juan+Evangelista%22',\n",
       "  'tweet_volume': 0},\n",
       " {'name': 'IVA al 0%',\n",
       "  'url': 'http://twitter.com/search?q=%22IVA+al+0%25%22',\n",
       "  'promoted_content': None,\n",
       "  'query': '%22IVA+al+0%25%22',\n",
       "  'tweet_volume': 0},\n",
       " {'name': 'Raoul',\n",
       "  'url': 'http://twitter.com/search?q=Raoul',\n",
       "  'promoted_content': None,\n",
       "  'query': 'Raoul',\n",
       "  'tweet_volume': 0},\n",
       " {'name': 'Nochevieja',\n",
       "  'url': 'http://twitter.com/search?q=Nochevieja',\n",
       "  'promoted_content': None,\n",
       "  'query': 'Nochevieja',\n",
       "  'tweet_volume': 0},\n",
       " {'name': 'Mateu Lahoz',\n",
       "  'url': 'http://twitter.com/search?q=%22Mateu+Lahoz%22',\n",
       "  'promoted_content': None,\n",
       "  'query': '%22Mateu+Lahoz%22',\n",
       "  'tweet_volume': 0},\n",
       " {'name': 'San Esteban',\n",
       "  'url': 'http://twitter.com/search?q=%22San+Esteban%22',\n",
       "  'promoted_content': None,\n",
       "  'query': '%22San+Esteban%22',\n",
       "  'tweet_volume': 0},\n",
       " {'name': 'Cheque de 200',\n",
       "  'url': 'http://twitter.com/search?q=%22Cheque+de+200%22',\n",
       "  'promoted_content': None,\n",
       "  'query': '%22Cheque+de+200%22',\n",
       "  'tweet_volume': 0},\n",
       " {'name': 'Sánchez y Díaz',\n",
       "  'url': 'http://twitter.com/search?q=%22S%C3%A1nchez+y+D%C3%ADaz%22',\n",
       "  'promoted_content': None,\n",
       "  'query': '%22S%C3%A1nchez+y+D%C3%ADaz%22',\n",
       "  'tweet_volume': 0},\n",
       " {'name': 'Teide',\n",
       "  'url': 'http://twitter.com/search?q=Teide',\n",
       "  'promoted_content': None,\n",
       "  'query': 'Teide',\n",
       "  'tweet_volume': 0},\n",
       " {'name': 'Mercadona',\n",
       "  'url': 'http://twitter.com/search?q=Mercadona',\n",
       "  'promoted_content': None,\n",
       "  'query': 'Mercadona',\n",
       "  'tweet_volume': 0},\n",
       " {'name': 'Nieves Concostrina',\n",
       "  'url': 'http://twitter.com/search?q=%22Nieves+Concostrina%22',\n",
       "  'promoted_content': None,\n",
       "  'query': '%22Nieves+Concostrina%22',\n",
       "  'tweet_volume': 0},\n",
       " {'name': 'Complutense',\n",
       "  'url': 'http://twitter.com/search?q=Complutense',\n",
       "  'promoted_content': None,\n",
       "  'query': 'Complutense',\n",
       "  'tweet_volume': 0},\n",
       " {'name': 'Betis',\n",
       "  'url': 'http://twitter.com/search?q=Betis',\n",
       "  'promoted_content': None,\n",
       "  'query': 'Betis',\n",
       "  'tweet_volume': 0},\n",
       " {'name': 'Cuca Gamarra',\n",
       "  'url': 'http://twitter.com/search?q=%22Cuca+Gamarra%22',\n",
       "  'promoted_content': None,\n",
       "  'query': '%22Cuca+Gamarra%22',\n",
       "  'tweet_volume': 0},\n",
       " {'name': 'IVA del 4%',\n",
       "  'url': 'http://twitter.com/search?q=%22IVA+del+4%25%22',\n",
       "  'promoted_content': None,\n",
       "  'query': '%22IVA+del+4%25%22',\n",
       "  'tweet_volume': 0},\n",
       " {'name': 'Kappah',\n",
       "  'url': 'http://twitter.com/search?q=Kappah',\n",
       "  'promoted_content': None,\n",
       "  'query': 'Kappah',\n",
       "  'tweet_volume': 0},\n",
       " {'name': 'Lost Ark',\n",
       "  'url': 'http://twitter.com/search?q=%22Lost+Ark%22',\n",
       "  'promoted_content': None,\n",
       "  'query': '%22Lost+Ark%22',\n",
       "  'tweet_volume': 0},\n",
       " {'name': 'Quevedo',\n",
       "  'url': 'http://twitter.com/search?q=Quevedo',\n",
       "  'promoted_content': None,\n",
       "  'query': 'Quevedo',\n",
       "  'tweet_volume': 0}]"
      ]
     },
     "execution_count": 8,
     "metadata": {},
     "output_type": "execute_result"
    }
   ],
   "source": [
    "for trend in public_tweets[0]['trends']:\n",
    "    if not isinstance(trend['tweet_volume'], int):\n",
    "        trend['tweet_volume'] = 0\n",
    "\n",
    "sorted_trends = sorted(public_tweets[0]['trends'], key=lambda d: d['tweet_volume'], reverse=True)\n",
    "sorted_trends"
   ]
  },
  {
   "cell_type": "code",
   "execution_count": 9,
   "metadata": {},
   "outputs": [
    {
     "name": "stdout",
     "output_type": "stream",
     "text": [
      "2172630\n",
      "25\n"
     ]
    },
    {
     "data": {
      "text/plain": [
       "{'name': 'Christmas',\n",
       " 'url': 'http://twitter.com/search?q=Christmas',\n",
       " 'promoted_content': None,\n",
       " 'query': 'Christmas',\n",
       " 'tweet_volume': 2172630}"
      ]
     },
     "execution_count": 9,
     "metadata": {},
     "output_type": "execute_result"
    }
   ],
   "source": [
    "max_value = 0\n",
    "max_index = 0\n",
    "\n",
    "for i, trend in enumerate(trends):\n",
    "    if isinstance(trend['tweet_volume'], int) and trend['tweet_volume'] > max_value:\n",
    "        max_value = trend['tweet_volume']\n",
    "        max_index = i\n",
    "\n",
    "print(max_value)\n",
    "print(max_index)\n",
    "trends[max_index]"
   ]
  },
  {
   "cell_type": "code",
   "execution_count": 10,
   "metadata": {},
   "outputs": [
    {
     "data": {
      "text/plain": [
       "{'name': 'Glass Onion',\n",
       " 'url': 'http://twitter.com/search?q=%22Glass+Onion%22',\n",
       " 'promoted_content': None,\n",
       " 'query': '%22Glass+Onion%22',\n",
       " 'tweet_volume': 80976}"
      ]
     },
     "execution_count": 10,
     "metadata": {},
     "output_type": "execute_result"
    }
   ],
   "source": [
    "trend_example = trends[15]\n",
    "trend_example"
   ]
  },
  {
   "cell_type": "code",
   "execution_count": 11,
   "metadata": {},
   "outputs": [],
   "source": [
    "client = tweepy.Client(bearer_token=bearer_token)"
   ]
  },
  {
   "cell_type": "code",
   "execution_count": 12,
   "metadata": {},
   "outputs": [
    {
     "name": "stdout",
     "output_type": "stream",
     "text": [
      "Glass Onion is:verified -is:retweet lang:es\n",
      "2022-12-26T14:56:48Z\n"
     ]
    }
   ],
   "source": [
    "# https://dev.to/twitterdev/a-comprehensive-guide-for-using-the-twitter-api-v2-using-tweepy-in-python-15d9\n",
    "query = trend_example['name'] + ' is:verified -is:retweet lang:es' # min_faves, min_retweets or place_country\n",
    "print(query)\n",
    "max_results = 10\n",
    "\n",
    "dtformat = '%Y-%m-%dT%H:%M:%SZ'\n",
    "start_time = (dt.utcnow() - timedelta(hours=24)).strftime(dtformat)\n",
    "print(start_time)\n",
    "\n",
    "# min_faves, min_retweets or place_country are not availables in my current subscription\n",
    "\n",
    "tweets = client.search_recent_tweets(query=query,\n",
    "                                     tweet_fields=['created_at', 'public_metrics', 'entities', 'context_annotations'],\n",
    "                                     user_fields=['username', 'name'],\n",
    "                                     expansions=['entities.mentions.username', 'author_id'],\n",
    "                                     max_results=max_results,\n",
    "                                     sort_order='relevancy',\n",
    "                                     start_time=start_time)\n",
    "                                     # start_time, to get tweets since last 24 hours\n"
   ]
  },
  {
   "cell_type": "code",
   "execution_count": 13,
   "metadata": {},
   "outputs": [
    {
     "data": {
      "text/plain": [
       "Response(data=[<Tweet id=1607406009273782272 text=\"Solo un grupo de vacacionistas, ocultando secretos y tal vez cometiendo un asesinato. 🧐 'Glass Onion: Un misterio de Knives Out', ya disponible. https://t.co/17PAJHg3d7\">, <Tweet id=1607398205700059139 text='qué mala glass onion, mediocre, muy por detrás de la primera. qué despropósito'>, <Tweet id=1607517259550887937 text='Una isla, un misterio, un detective, múltiples sospechosos. Vuelve Benoit Blanc. Glass Onion, ya disponible, solo en Netflix.'>, <Tweet id=1607517259253030914 text='Benoit Blanc deberá resolver un misterio que envuelve a un nuevo grupo de sospechosos. Glass Onion, ya disponible, solo en Netflix.'>, <Tweet id=1607517259244740608 text='Todos son sospechosos en este nuevo rompecabezas de Rian Johnson. Glass Onion, un misterio de Knives Out, sólo en Netflix.'>, <Tweet id=1607417655295606789 text='Con el metraje que le sobra a Glass Onion me he hecho una bufanda.'>, <Tweet id=1607547928645718017 text='Vaya pestiño horrendo la supuesta gran película de Netflix de estas Navidades, Glass Onion. De lo peor que he visto en décadas'>, <Tweet id=1607421883544375297 text=\"'Glass Onion' llegó a Netflix... pero no es la única película de detectives que puedes ver en streaming. Acá unas recomendaciones chidas. 😎👌\\n\\n#GlassOnion #KnivesOut \\n\\nhttps://t.co/upY2oCnW29\">, <Tweet id=1607556887888658434 text='Un juego mortal. https://t.co/UBntQZQZH7'>, <Tweet id=1607409728153329668 text='Netflix no para de lanzar producciones que rápidamente se vuelven furor y se convierten en las más elegidas, como sucedió con “Glass Onion”: Un misterio de “Knives Out”, que es protagonizada por Daniel Craig y una de las más vistas.\\n\\nhttps://t.co/iV9owAYDu3'>], includes={'users': [<User id=231577324 name=Netflix Latinoamérica username=NetflixLAT>, <User id=204406798 name=rush username=rushsmith>, <User id=127823139 name=Dani Cantó ⚑ username=Dani_Canto>, <User id=92415862 name=Rosa Montero username=BrunaHusky>, <User id=774588164 name=SopitasFM username=sopitasfm>, <User id=18144514 name=Espinof username=espinof_com>, <User id=76664119 name=Vanguardia username=vanguardiacom>]}, errors=[], meta={'newest_id': '1607556887888658434', 'oldest_id': '1607398205700059139', 'result_count': 10})"
      ]
     },
     "execution_count": 13,
     "metadata": {},
     "output_type": "execute_result"
    }
   ],
   "source": [
    "tweets"
   ]
  },
  {
   "cell_type": "code",
   "execution_count": 14,
   "metadata": {},
   "outputs": [
    {
     "data": {
      "text/plain": [
       "{'users': [<User id=231577324 name=Netflix Latinoamérica username=NetflixLAT>,\n",
       "  <User id=204406798 name=rush username=rushsmith>,\n",
       "  <User id=127823139 name=Dani Cantó ⚑ username=Dani_Canto>,\n",
       "  <User id=92415862 name=Rosa Montero username=BrunaHusky>,\n",
       "  <User id=774588164 name=SopitasFM username=sopitasfm>,\n",
       "  <User id=18144514 name=Espinof username=espinof_com>,\n",
       "  <User id=76664119 name=Vanguardia username=vanguardiacom>]}"
      ]
     },
     "execution_count": 14,
     "metadata": {},
     "output_type": "execute_result"
    }
   ],
   "source": [
    "tweets.includes"
   ]
  },
  {
   "cell_type": "code",
   "execution_count": 15,
   "metadata": {},
   "outputs": [
    {
     "name": "stdout",
     "output_type": "stream",
     "text": [
      "Solo un grupo de vacacionistas, ocultando secretos y tal vez cometiendo un asesinato. 🧐 'Glass Onion: Un misterio de Knives Out', ya disponible. https://t.co/17PAJHg3d7\n"
     ]
    },
    {
     "data": {
      "text/plain": [
       "<User id=231577324 name=Netflix Latinoamérica username=NetflixLAT>"
      ]
     },
     "execution_count": 15,
     "metadata": {},
     "output_type": "execute_result"
    }
   ],
   "source": [
    "tweet_data = tweets.data[0]\n",
    "tweet_user_info = tweets.includes['users'][0]\n",
    "print(tweet_data)\n",
    "tweet_user_info"
   ]
  },
  {
   "cell_type": "code",
   "execution_count": 16,
   "metadata": {},
   "outputs": [
    {
     "name": "stdout",
     "output_type": "stream",
     "text": [
      "Solo un grupo de vacacionistas, ocultando secretos y tal vez cometiendo un asesinato. 🧐 'Glass Onion: Un misterio de Knives Out', ya disponible. https://t.co/17PAJHg3d7\n",
      "2022-12-26 16:00:31+00:00\n",
      "1607406009273782272\n",
      "https://twitter.com/twitter/statuses/1607406009273782272\n",
      "NetflixLAT\n",
      "Netflix Latinoamérica\n",
      "{'retweet_count': 33, 'reply_count': 21, 'like_count': 1061, 'quote_count': 19}\n"
     ]
    }
   ],
   "source": [
    "# check fields\n",
    "print(tweet_data.text)\n",
    "print(tweet_data.created_at)\n",
    "print(tweet_data.id)\n",
    "print(f'https://twitter.com/twitter/statuses/{tweet_data.id}')\n",
    "print(tweet_user_info.username)\n",
    "print(tweet_user_info.name)\n",
    "print(tweet_data.public_metrics)"
   ]
  },
  {
   "cell_type": "code",
   "execution_count": 17,
   "metadata": {},
   "outputs": [
    {
     "name": "stdout",
     "output_type": "stream",
     "text": [
      "['urls', 'annotations']\n",
      "{'urls': [{'start': 145, 'end': 168, 'url': 'https://t.co/17PAJHg3d7', 'expanded_url': 'https://twitter.com/NetflixLAT/status/1607406009273782272/photo/1', 'display_url': 'pic.twitter.com/17PAJHg3d7', 'media_key': '3_1607385576096911360'}], 'annotations': [{'start': 89, 'end': 115, 'probability': 0.8605, 'type': 'Other', 'normalized_text': 'Glass Onion: Un misterio de'}, {'start': 117, 'end': 126, 'probability': 0.8421, 'type': 'Other', 'normalized_text': 'Knives Out'}]}\n"
     ]
    }
   ],
   "source": [
    "print(list(tweet_data.entities.keys()))\n",
    "print(tweet_data.entities)"
   ]
  },
  {
   "cell_type": "code",
   "execution_count": 18,
   "metadata": {},
   "outputs": [],
   "source": [
    "# get from entities \"normalized_text\" from \"annotations\" field"
   ]
  },
  {
   "cell_type": "code",
   "execution_count": 19,
   "metadata": {},
   "outputs": [
    {
     "data": {
      "text/plain": [
       "[{'domain': {'id': '23',\n",
       "   'name': 'TV Channels',\n",
       "   'description': 'Television Channels'},\n",
       "  'entity': {'id': '1278096025752702976', 'name': 'Netflix Latinoamérica'}},\n",
       " {'domain': {'id': '45',\n",
       "   'name': 'Brand Vertical',\n",
       "   'description': 'Top level entities that describe a Brands industry'},\n",
       "  'entity': {'id': '781974597310615553', 'name': 'Entertainment'}},\n",
       " {'domain': {'id': '30',\n",
       "   'name': 'Entities [Entity Service]',\n",
       "   'description': 'Entity Service top level domain, every item that is in Entity Service should be in this domain'},\n",
       "  'entity': {'id': '781974597105094656',\n",
       "   'name': 'TV/Movies Related - Entertainment'}},\n",
       " {'domain': {'id': '47',\n",
       "   'name': 'Brand',\n",
       "   'description': 'Brands and Companies'},\n",
       "  'entity': {'id': '10026367762', 'name': 'Netflix'}},\n",
       " {'domain': {'id': '131',\n",
       "   'name': 'Unified Twitter Taxonomy',\n",
       "   'description': 'A taxonomy of user interests. '},\n",
       "  'entity': {'id': '10026367762', 'name': 'Netflix'}},\n",
       " {'domain': {'id': '131',\n",
       "   'name': 'Unified Twitter Taxonomy',\n",
       "   'description': 'A taxonomy of user interests. '},\n",
       "  'entity': {'id': '1196447585004736512', 'name': 'Entertainment industry'}},\n",
       " {'domain': {'id': '131',\n",
       "   'name': 'Unified Twitter Taxonomy',\n",
       "   'description': 'A taxonomy of user interests. '},\n",
       "  'entity': {'id': '1397573214239289349', 'name': 'TV streaming services'}}]"
      ]
     },
     "execution_count": 19,
     "metadata": {},
     "output_type": "execute_result"
    }
   ],
   "source": [
    "tweet_data.context_annotations"
   ]
  },
  {
   "cell_type": "code",
   "execution_count": 35,
   "metadata": {},
   "outputs": [
    {
     "data": {
      "text/plain": [
       "['Netflix Latinoamérica',\n",
       " 'Entertainment',\n",
       " 'TV/Movies Related - Entertainment',\n",
       " 'Netflix',\n",
       " 'Netflix',\n",
       " 'Entertainment industry',\n",
       " 'TV streaming services']"
      ]
     },
     "execution_count": 35,
     "metadata": {},
     "output_type": "execute_result"
    }
   ],
   "source": [
    "context_annotations_values = [annotation['entity']['name'] for annotation in tweet_data.context_annotations]\n",
    "context_annotations_values"
   ]
  },
  {
   "cell_type": "code",
   "execution_count": 27,
   "metadata": {},
   "outputs": [
    {
     "data": {
      "text/plain": [
       "['Glass Onion: Un misterio de', 'Knives Out']"
      ]
     },
     "execution_count": 27,
     "metadata": {},
     "output_type": "execute_result"
    }
   ],
   "source": [
    "entities_values = [entity['normalized_text'] for entity in tweet_data.entities['annotations']]\n",
    "entities_values"
   ]
  },
  {
   "cell_type": "code",
   "execution_count": 31,
   "metadata": {},
   "outputs": [
    {
     "data": {
      "image/png": "[encoded data removed]",
      "text/plain": [
       "<Figure size 640x480 with 1 Axes>"
      ]
     },
     "metadata": {},
     "output_type": "display_data"
    }
   ],
   "source": [
    "wordcloud = WordCloud(background_color = \"white\", max_words = 20).generate(\" \".join(entities_values))\n",
    "plt.imshow(wordcloud)\n",
    "plt.axis(\"off\")\n",
    "plt.show();"
   ]
  },
  {
   "cell_type": "code",
   "execution_count": 21,
   "metadata": {},
   "outputs": [],
   "source": [
    "# export top 10 tweets for top 10 trending topics, to save requests "
   ]
  },
  {
   "cell_type": "code",
   "execution_count": 22,
   "metadata": {},
   "outputs": [],
   "source": [
    "top_trends = sorted_trends[:10]\n",
    "# remove last and add \"pechotes\" social new\n",
    "top_trends = top_trends[:-1]\n",
    "top_trends.append(sorted_trends[36])"
   ]
  },
  {
   "cell_type": "code",
   "execution_count": 23,
   "metadata": {},
   "outputs": [
    {
     "data": {
      "text/plain": [
       "[{'name': 'Christmas',\n",
       "  'url': 'http://twitter.com/search?q=Christmas',\n",
       "  'promoted_content': None,\n",
       "  'query': 'Christmas',\n",
       "  'tweet_volume': 2172630},\n",
       " {'name': 'Arsenal',\n",
       "  'url': 'http://twitter.com/search?q=Arsenal',\n",
       "  'promoted_content': None,\n",
       "  'query': 'Arsenal',\n",
       "  'tweet_volume': 410608},\n",
       " {'name': 'Liverpool',\n",
       "  'url': 'http://twitter.com/search?q=Liverpool',\n",
       "  'promoted_content': None,\n",
       "  'query': 'Liverpool',\n",
       "  'tweet_volume': 279186},\n",
       " {'name': 'Gakpo',\n",
       "  'url': 'http://twitter.com/search?q=Gakpo',\n",
       "  'promoted_content': None,\n",
       "  'query': 'Gakpo',\n",
       "  'tweet_volume': 275441},\n",
       " {'name': 'El Gobierno',\n",
       "  'url': 'http://twitter.com/search?q=%22El+Gobierno%22',\n",
       "  'promoted_content': None,\n",
       "  'query': '%22El+Gobierno%22',\n",
       "  'tweet_volume': 223910},\n",
       " {'name': 'Feliz Navidad',\n",
       "  'url': 'http://twitter.com/search?q=%22Feliz+Navidad%22',\n",
       "  'promoted_content': None,\n",
       "  'query': '%22Feliz+Navidad%22',\n",
       "  'tweet_volume': 167090},\n",
       " {'name': 'Sara',\n",
       "  'url': 'http://twitter.com/search?q=Sara',\n",
       "  'promoted_content': None,\n",
       "  'query': 'Sara',\n",
       "  'tweet_volume': 102841},\n",
       " {'name': 'Glass Onion',\n",
       "  'url': 'http://twitter.com/search?q=%22Glass+Onion%22',\n",
       "  'promoted_content': None,\n",
       "  'query': '%22Glass+Onion%22',\n",
       "  'tweet_volume': 80976},\n",
       " {'name': 'Joao',\n",
       "  'url': 'http://twitter.com/search?q=Joao',\n",
       "  'promoted_content': None,\n",
       "  'query': 'Joao',\n",
       "  'tweet_volume': 62091},\n",
       " {'name': 'Mateu Lahoz',\n",
       "  'url': 'http://twitter.com/search?q=%22Mateu+Lahoz%22',\n",
       "  'promoted_content': None,\n",
       "  'query': '%22Mateu+Lahoz%22',\n",
       "  'tweet_volume': 0}]"
      ]
     },
     "execution_count": 23,
     "metadata": {},
     "output_type": "execute_result"
    }
   ],
   "source": [
    "top_trends"
   ]
  },
  {
   "cell_type": "code",
   "execution_count": 24,
   "metadata": {},
   "outputs": [
    {
     "name": "stdout",
     "output_type": "stream",
     "text": [
      "Christmas is:verified -is:retweet lang:es\n",
      "2022-12-26T14:56:59Z\n",
      "Arsenal is:verified -is:retweet lang:es\n",
      "2022-12-26T14:57:00Z\n",
      "Liverpool is:verified -is:retweet lang:es\n",
      "2022-12-26T14:57:00Z\n",
      "Gakpo is:verified -is:retweet lang:es\n",
      "2022-12-26T14:57:01Z\n",
      "El Gobierno is:verified -is:retweet lang:es\n",
      "2022-12-26T14:57:01Z\n",
      "Feliz Navidad is:verified -is:retweet lang:es\n",
      "2022-12-26T14:57:02Z\n",
      "Sara is:verified -is:retweet lang:es\n",
      "2022-12-26T14:57:02Z\n",
      "Glass Onion is:verified -is:retweet lang:es\n",
      "2022-12-26T14:57:02Z\n",
      "Joao is:verified -is:retweet lang:es\n",
      "2022-12-26T14:57:03Z\n",
      "Mateu Lahoz is:verified -is:retweet lang:es\n",
      "2022-12-26T14:57:03Z\n"
     ]
    }
   ],
   "source": [
    "trend_tweets = {}\n",
    "for trend in top_trends:\n",
    "    query = trend['name'] + ' is:verified -is:retweet lang:es' # min_faves, min_retweets or place_country\n",
    "    print(query)\n",
    "    max_results = 10\n",
    "\n",
    "    dtformat = '%Y-%m-%dT%H:%M:%SZ'\n",
    "    start_time = (dt.utcnow() - timedelta(hours=24)).strftime(dtformat)\n",
    "    print(start_time)\n",
    "\n",
    "    # min_faves, min_retweets or place_country are not availables in my current subscription\n",
    "\n",
    "    tweets = client.search_recent_tweets(query=query,\n",
    "                                        tweet_fields=['created_at', 'public_metrics', 'entities', 'context_annotations'],\n",
    "                                        user_fields=['username', 'name'],\n",
    "                                        expansions=['entities.mentions.username', 'author_id'],\n",
    "                                        max_results=max_results,\n",
    "                                        sort_order='relevancy',\n",
    "                                        start_time=start_time)\n",
    "    trend_tweets[trend['name']] = tweets"
   ]
  },
  {
   "cell_type": "code",
   "execution_count": 25,
   "metadata": {},
   "outputs": [
    {
     "data": {
      "text/plain": [
       "list"
      ]
     },
     "execution_count": 25,
     "metadata": {},
     "output_type": "execute_result"
    }
   ],
   "source": [
    "type(trend_tweets)"
   ]
  },
  {
   "cell_type": "code",
   "execution_count": 26,
   "metadata": {},
   "outputs": [],
   "source": [
    "# pickle.dump(trend_tweets, open('trend_tweets.pkl', 'wb'))\n",
    "# not works load"
   ]
  },
  {
   "cell_type": "code",
   "execution_count": null,
   "metadata": {},
   "outputs": [],
   "source": []
  },
  {
   "cell_type": "code",
   "execution_count": null,
   "metadata": {},
   "outputs": [],
   "source": []
  }
 ],
 "metadata": {
  "kernelspec": {
   "display_name": ".venv",
   "language": "python",
   "name": "python3"
  },
  "language_info": {
   "codemirror_mode": {
    "name": "ipython",
    "version": 3
   },
   "file_extension": ".py",
   "mimetype": "text/x-python",
   "name": "python",
   "nbconvert_exporter": "python",
   "pygments_lexer": "ipython3",
   "version": "3.10.0"
  },
  "orig_nbformat": 4,
  "vscode": {
   "interpreter": {
    "hash": "f5ba7a6c16a720a8fcfcd34bdaadf5cdbc49ba027e19047b36704b1ce47dc83d"
   }
  }
 },
 "nbformat": 4,
 "nbformat_minor": 2
}
