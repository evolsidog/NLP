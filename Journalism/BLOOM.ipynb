{
 "cells": [
  {
   "cell_type": "code",
   "execution_count": 1,
   "id": "4260bf8f",
   "metadata": {},
   "outputs": [],
   "source": [
    "# bloom (https://towardsdatascience.com/getting-started-with-bloom-9e3295459b65)"
   ]
  },
  {
   "cell_type": "code",
   "execution_count": 2,
   "id": "2d2ca4d8",
   "metadata": {},
   "outputs": [],
   "source": [
    "from transformers import BloomForCausalLM, BloomTokenizerFast"
   ]
  },
  {
   "cell_type": "code",
   "execution_count": 3,
   "id": "0fa5634d",
   "metadata": {},
   "outputs": [],
   "source": [
    "tokenizer_bloom = BloomTokenizerFast.from_pretrained(\"bigscience/bloom-560m\")"
   ]
  },
  {
   "cell_type": "code",
   "execution_count": 4,
   "id": "52c55e14",
   "metadata": {},
   "outputs": [],
   "source": [
    "model_bloom = BloomForCausalLM.from_pretrained(\"bigscience/bloom-560m\")"
   ]
  },
  {
   "cell_type": "code",
   "execution_count": 6,
   "id": "0f5a61d2",
   "metadata": {},
   "outputs": [
    {
     "name": "stdout",
     "output_type": "stream",
     "text": [
      "Real Madrid - Barcelona, jornada 5, empate 1-1, aburrido, goles Benzema y lewandowski\n",
      "El Barcelona de Lionel Messi, se despide con el Barcelona de Cristiano Ronaldo, en partido correspondiente a la quinta jornada de LaLiga SmartBank, del Grupo\n"
     ]
    }
   ],
   "source": [
    "# Sampling Top-k + Top-p\n",
    "print(tokenizer_bloom.decode(model_bloom.generate(inputs[\"input_ids\"],\n",
    "                       max_length=result_length, \n",
    "                       do_sample=True, \n",
    "                       top_k=50, \n",
    "                       top_p=0.9\n",
    "                      )[0]))"
   ]
  },
  {
   "cell_type": "code",
   "execution_count": 9,
   "id": "62099876",
   "metadata": {},
   "outputs": [],
   "source": [
    "def generate_text(text, result_length, mode=\"sampling_top_k_top_p\"):\n",
    "    inputs = tokenizer_bloom(text, return_tensors=\"pt\")\n",
    "    \n",
    "    if mode == \"greedy\":\n",
    "        outputs = model_bloom.generate(\n",
    "            inputs[\"input_ids\"], \n",
    "            max_length=result_length)\n",
    "    elif mode == \"beam\":\n",
    "        outputs = model_bloom.generate(\n",
    "            inputs[\"input_ids\"],\n",
    "            max_length=result_length, \n",
    "            num_beams=2, \n",
    "            no_repeat_ngram_size=2,\n",
    "            early_stopping=True)\n",
    "    elif mode == \"sampling_top_k_top_p\":\n",
    "        outputs = model_bloom.generate(\n",
    "            inputs[\"input_ids\"],\n",
    "            max_length=result_length, \n",
    "            do_sample=True, \n",
    "            top_k=50, \n",
    "            top_p=0.9)\n",
    "        \n",
    "    outputs_str = tokenizer_bloom.decode(outputs[0])\n",
    "    \n",
    "    return outputs_str"
   ]
  },
  {
   "cell_type": "code",
   "execution_count": 13,
   "id": "3957ea33",
   "metadata": {},
   "outputs": [
    {
     "data": {
      "text/plain": [
       "\"It was a dark and stormy night. On the day of his graduation at the University of Notre Dame in 1916, the French-American Revolution had put an end to the French revolution in France. The French Revolution was the first French-American War that had lasted longer than the First World War and the French Revolution was the first time that the British and the United States fought on the same side.\\nAfter the war, he founded the French Historical Society. He then ran a French History Center in Paris that was dedicated to the French Revolution. He was the head of the Historical Society's history department and also the editor of the journal Le Bulletin.\\n\""
      ]
     },
     "execution_count": 13,
     "metadata": {},
     "output_type": "execute_result"
    }
   ],
   "source": [
    "prompt = \"It was a dark and stormy night\"\n",
    "# prompt =\"Real Madrid - Barcelona, jornada 5, empate 1-1, aburrido, goles Benzema y lewandowski\"\n",
    "result_length = 128\n",
    "generate_text(text=prompt, result_length=result_length, mode=\"sampling_top_k_top_p\")"
   ]
  },
  {
   "cell_type": "code",
   "execution_count": 14,
   "id": "f6c22cff",
   "metadata": {},
   "outputs": [
    {
     "data": {
      "text/plain": [
       "'Real Madrid - Barcelona, jornada 5, empate 1-1, aburrido, goles Benzema y lewandowski. Jugadores y suplentes. Entrenador.\\nSe llevó la sorpresa a pesar de que ya era el 1-0.\\nAlarde de falta y mala definición de Leandruy.\\nAl filo del descanso, llegó el gol del Barcelona en contra. Leandruy, en el cobro de una falta en defensa del Espanyol, mandó el balón en ángulo y venció la resistencia de un defensor azulgrana y entró por la línea de fondo, por un lado. Por el otro, se le coló por dentro a Pedro Sánchez, el delantero del'"
      ]
     },
     "execution_count": 14,
     "metadata": {},
     "output_type": "execute_result"
    }
   ],
   "source": [
    "prompt = \"Real Madrid - Barcelona, jornada 5, empate 1-1, aburrido, goles Benzema y lewandowski\"\n",
    "# prompt =\"Real Madrid - Barcelona, jornada 5, empate 1-1, aburrido, goles Benzema y lewandowski\"\n",
    "result_length = 128\n",
    "generate_text(text=prompt, result_length=result_length, mode=\"sampling_top_k_top_p\")"
   ]
  },
  {
   "cell_type": "code",
   "execution_count": null,
   "id": "aefc7b3b",
   "metadata": {},
   "outputs": [],
   "source": []
  }
 ],
 "metadata": {
  "kernelspec": {
   "display_name": "Python 3 (ipykernel)",
   "language": "python",
   "name": "python3"
  },
  "language_info": {
   "codemirror_mode": {
    "name": "ipython",
    "version": 3
   },
   "file_extension": ".py",
   "mimetype": "text/x-python",
   "name": "python",
   "nbconvert_exporter": "python",
   "pygments_lexer": "ipython3",
   "version": "3.9.5"
  }
 },
 "nbformat": 4,
 "nbformat_minor": 5
}
