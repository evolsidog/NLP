{
 "cells": [
  {
   "cell_type": "markdown",
   "metadata": {},
   "source": [
    "### Summarize pretrained models in Spanish"
   ]
  },
  {
   "cell_type": "markdown",
   "metadata": {},
   "source": [
    "https://efe.com/mundo/viaje-de-volodimir-zelenski-a-ee-uu-para-reunirse-con-joe-biden/"
   ]
  },
  {
   "cell_type": "code",
   "execution_count": 1,
   "metadata": {},
   "outputs": [],
   "source": [
    "# 2763 characters\n",
    "ARTICLE = \"\"\"Volodimir Zelenski confirma que viaja a EE.UU. para reunirse con Joe Biden\n",
    "21 diciembre 2022\n",
    "\n",
    "Leópolis (Ucrania) (EFE).- El presidente de Ucrania, Volodimir Zelenski, confirmó este miércoles que viaja a Estados Unidos para reunirse con el mandatario estadounidense, Joe Biden, y ofrecer un discurso en el pleno del Congreso de ese país.\n",
    "\n",
    "«De camino a EE. UU. para fortalecer la resiliencia y las capacidades de defensa de Ucrania», aseguró Zelenski en su cuenta de Twitter, en la que también confirmó que mantendrá una reunión con Biden.\n",
    "\n",
    "«Discutiré la cooperación entre Ucrania y Estados Unidos. También tendré un discurso en el Congreso y una serie de reuniones bilaterales», precisó el mandatario.\n",
    "\n",
    "Se trata de la primera visita al extranjero del mandatario ucraniano desde que su país fue invadido el pasado 24 de febrero, en un conflicto que acaba de superar los 300 días.\n",
    "\n",
    "La Casa Blanca había anunciado previamente la visita de Zelenski y la intervención del líder ucraniano en una sesión conjunta de las dos Cámaras del Congreso de los Estados Unidos.\n",
    "\n",
    "«El presidente Biden espera dar la bienvenida hoy, 21 de diciembre, al presidente Zelenski en la Casa Blanca», explicó la portavoz de la Casa Blanca, Karine Jean-Pierre.\n",
    "\n",
    "La portavoz también confirmó que durante esta visita Biden anunciará un nuevo paquete de ayuda a Ucrania para que pueda «defenderse de la agresión rusa».\n",
    "\n",
    "Un funcionario de alto nivel de la administración estadounidense confirmó en una llamada con los periodistas que Zelenski solo estará «unas pocas horas» en Washington y mantendrá una conversación con Biden en la Casa Blanca para después hablar ante los legisladores en el pleno del Congreso del país.\n",
    "\n",
    "Durante la visita, el mandatario estadounidense anunciará el envío de un nuevo paquete de ayuda militar a Ucrania por valor de 2.000 millones de dólares, que incluirá una batería de misiles Patriot, un sistema de defensa antimisiles muy eficaz que Kiev lleva tiempo solicitando a Washington.\n",
    "\n",
    "Estados Unidos es el principal aliado de Ucrania en el conflicto abierto con Rusia y ha aprobado en los últimos meses varios millonarios paquetes en ayuda económica y armamento para ayudar a Kiev en su defensa ante la invasión militar rusa.\n",
    "\n",
    "Ucrania se asegura el suministro de armas para todo 2023, según Defensa\n",
    "Ucrania recibirá las armas y municiones necesarias durante todos los meses del próximo año 2023 para luchar contra la invasión rusa, aseguró este miércoles Oleksii Reznikov, ministro de Defensa de Ucrania.\n",
    "\n",
    "Durante un programa especial emitido por las cadenas de televisión ucranianas y que recoge la agencia Interfax-Ukraine, el responsable de Defensa señaló que el país ha firmado numerosos contratos con otras naciones para disponer de armas en los próximos meses.\"\"\""
   ]
  },
  {
   "cell_type": "markdown",
   "metadata": {},
   "source": [
    "### csebuetnlp/mT5_multilingual_XLSum"
   ]
  },
  {
   "cell_type": "code",
   "execution_count": 2,
   "metadata": {},
   "outputs": [
    {
     "name": "stderr",
     "output_type": "stream",
     "text": [
      "c:\\Users\\victor.cordero\\Documents\\DataScience\\POCs\\.venv\\lib\\site-packages\\tqdm\\auto.py:22: TqdmWarning: IProgress not found. Please update jupyter and ipywidgets. See https://ipywidgets.readthedocs.io/en/stable/user_install.html\n",
      "  from .autonotebook import tqdm as notebook_tqdm\n"
     ]
    }
   ],
   "source": [
    "import re\n",
    "from transformers import AutoTokenizer, AutoModelForSeq2SeqLM\n",
    "import time\n"
   ]
  },
  {
   "cell_type": "code",
   "execution_count": 3,
   "metadata": {},
   "outputs": [
    {
     "name": "stderr",
     "output_type": "stream",
     "text": [
      "c:\\Users\\victor.cordero\\Documents\\DataScience\\POCs\\.venv\\lib\\site-packages\\transformers\\convert_slow_tokenizer.py:446: UserWarning: The sentencepiece tokenizer that you are converting to a fast tokenizer uses the byte fallback option which is not implemented in the fast tokenizers. In practice this means that the fast version of the tokenizer can produce unknown tokens whereas the sentencepiece version would have converted these unknown tokens into a sequence of byte tokens matching the original piece of text.\n",
      "  warnings.warn(\n"
     ]
    }
   ],
   "source": [
    "model_name = \"csebuetnlp/mT5_multilingual_XLSum\"\n",
    "tokenizer = AutoTokenizer.from_pretrained(model_name)\n",
    "model = AutoModelForSeq2SeqLM.from_pretrained(model_name)"
   ]
  },
  {
   "cell_type": "code",
   "execution_count": 4,
   "metadata": {},
   "outputs": [],
   "source": [
    "WHITESPACE_HANDLER = lambda k: re.sub('\\s+', ' ', re.sub('\\n+', ' ', k.strip()))\n",
    "\n",
    "def sumamrize_mT5_multilingual_XLSum(text, max_input_length=512, max_output_length= 84, size_percent=0.05):\n",
    "    clean_text = [WHITESPACE_HANDLER(text)]\n",
    "    \n",
    "    input_ids = tokenizer(\n",
    "        clean_text,\n",
    "        return_tensors=\"pt\",\n",
    "        padding=\"max_length\",\n",
    "        truncation=True,\n",
    "        max_length=max_input_length\n",
    "    )[\"input_ids\"]\n",
    "\n",
    "    output_ids = model.generate(\n",
    "        input_ids=input_ids,\n",
    "        max_length=max_output_length,\n",
    "        no_repeat_ngram_size=2,\n",
    "        num_beams=4,\n",
    "        min_length=int(len(clean_text[0]) * size_percent)\n",
    "    )[0]\n",
    "\n",
    "    summary = tokenizer.decode(\n",
    "        output_ids,\n",
    "        skip_special_tokens=True,\n",
    "        clean_up_tokenization_spaces=False\n",
    "    )\n",
    "\n",
    "    print(summary)"
   ]
  },
  {
   "cell_type": "code",
   "execution_count": 5,
   "metadata": {},
   "outputs": [
    {
     "name": "stdout",
     "output_type": "stream",
     "text": [
      "YouTube is to remove thousands of videos spreading misinformation about Covid vaccines from its platform, amid a row over false claims about the jabs, the company has announced. They could be removed from their platform within weeks.\n"
     ]
    }
   ],
   "source": [
    "article_text = \"\"\"Videos that say approved vaccines are dangerous and cause autism, cancer or infertility are among those that will be taken down, the company said.  The policy includes the termination of accounts of anti-vaccine influencers.  Tech giants have been criticised for not doing more to counter false health information on their sites.  In July, US President Joe Biden said social media platforms were largely responsible for people's scepticism in getting vaccinated by spreading misinformation, and appealed for them to address the issue.  YouTube, which is owned by Google, said 130,000 videos were removed from its platform since last year, when it implemented a ban on content spreading misinformation about Covid vaccines.  In a blog post, the company said it had seen false claims about Covid jabs \"spill over into misinformation about vaccines in general\". The new policy covers long-approved vaccines, such as those against measles or hepatitis B.  \"We're expanding our medical misinformation policies on YouTube with new guidelines on currently administered vaccines that are approved and confirmed to be safe and effective by local health authorities and the WHO,\" the post said, referring to the World Health Organization.\"\"\"\n",
    "sumamrize_mT5_multilingual_XLSum(article_text)"
   ]
  },
  {
   "cell_type": "code",
   "execution_count": 6,
   "metadata": {},
   "outputs": [
    {
     "name": "stdout",
     "output_type": "stream",
     "text": [
      "CPU times: total: 0 ns\n",
      "Wall time: 0 ns\n"
     ]
    }
   ],
   "source": [
    "%%time\n",
    "# sumamrize_mT5_multilingual_XLSum(ARTICLE, max_length_input=512, size_percent=0.1)"
   ]
  },
  {
   "cell_type": "code",
   "execution_count": 7,
   "metadata": {},
   "outputs": [
    {
     "name": "stdout",
     "output_type": "stream",
     "text": [
      "CPU times: total: 0 ns\n",
      "Wall time: 0 ns\n"
     ]
    }
   ],
   "source": [
    "%%time\n",
    "# sumamrize_mT5_multilingual_XLSum(ARTICLE, max_length_input=4096, output_length=256)"
   ]
  },
  {
   "cell_type": "code",
   "execution_count": 8,
   "metadata": {},
   "outputs": [
    {
     "name": "stdout",
     "output_type": "stream",
     "text": [
      "El presidente de Ucrania, Volodimir Zelenski, viajará a Estados Unidos para reunirse con el mandatario estadounidense, Joe Biden, y ofrecer un discurso en el pleno del Congreso de ese país, según informó este miércoles la Casa Blanca, Karine Jean-Pierre, de la Agencia de Seguridad Nacional de EE.UU. (AIEA), en la que se encuentra el ministro de Defensa de Kiev, Oleksii Reznikov, quien asegura el suministro . -  Pero  ¿ ¿ e i s o\n",
      "CPU times: total: 14min 4s\n",
      "Wall time: 1min 45s\n"
     ]
    }
   ],
   "source": [
    "%%time\n",
    "sumamrize_mT5_multilingual_XLSum(ARTICLE, max_input_length=4096, max_output_length=256)"
   ]
  },
  {
   "cell_type": "code",
   "execution_count": null,
   "metadata": {},
   "outputs": [],
   "source": []
  },
  {
   "cell_type": "code",
   "execution_count": 9,
   "metadata": {},
   "outputs": [
    {
     "name": "stdout",
     "output_type": "stream",
     "text": [
      "There are 27 paragraphs\n",
      "Average length of paragraph: 101.37037037037037\n",
      "300\n",
      "0\n"
     ]
    }
   ],
   "source": [
    "paragraphs = ARTICLE.split('\\n')\n",
    "print(f\"There are {len(paragraphs)} paragraphs\")\n",
    "print(f\"Average length of paragraph: {sum([len(paragraph) for paragraph in paragraphs])/len(paragraphs)}\")\n",
    "print(max([len(paragraph) for paragraph in paragraphs]))\n",
    "print(min([len(paragraph) for paragraph in paragraphs]))"
   ]
  },
  {
   "cell_type": "code",
   "execution_count": 10,
   "metadata": {},
   "outputs": [
    {
     "name": "stdout",
     "output_type": "stream",
     "text": [
      "Length: 1024\n",
      "3 number of chunks\n",
      "Chunk: 0\n",
      "\"De camino a Estados Unidos para fortalecer la resiliencia y la capacidad de defensa de Ucrania\", anunció este miércoles Volodimir Zelenski en su cuenta de Twitter, en medio de la escalada de tensiones entre ambos países en el conflicto que vive el país desde que fue invadido el pasado 24 de febrero de 2001. - . 'La cooperación entre los gobiernos ucranianos\n",
      "Chunk: 1\n",
      "El presidente de Estados Unidos, Joe Biden, espera dar la bienvenida este miércoles al presidente ucraniano, Volodymyr Zelenski, en la Casa Blanca, según informó la administración estadounidense en un comunicado hecho este viernes por el gobierno de la Agencia Nacional de Energía Atómica (NSA, por sus siglas en in.a. ) y dijo que el mandatario de ese país espera \n",
      "Chunk: 2\n",
      "El gobierno de Ucrania anunció este miércoles el suministro de armas y municiones a Rusia para luchar contra la invasión militar rusa en el este del país, en medio de una serie de esfuerzos para ayudar al país en su defensa ante la amenaza de la guerra.\n",
      "77.31823420524597 seconds\n",
      "CPU times: total: 10min 17s\n",
      "Wall time: 1min 17s\n"
     ]
    }
   ],
   "source": [
    "%%time\n",
    "# try different sizes of chunks\n",
    "# paragraph_lengths = [128, 256, 512, 1024]\n",
    "percentage_output_length = 0.1 # summary of 10%\n",
    "paragraph_lengths = [1024]\n",
    "\n",
    "summarize_results = {}\n",
    "for paragraph_length in paragraph_lengths:\n",
    "    print(f\"Length: {paragraph_length}\")\n",
    "    start_time = time.time()\n",
    "\n",
    "    chunks = [ARTICLE[i:i+paragraph_length] for i in range(0, len(ARTICLE), paragraph_length)]\n",
    "    print(f\"{len(chunks)} number of chunks\")\n",
    "\n",
    "    summary = []\n",
    "    for i, chunk in enumerate(chunks):\n",
    "        print(f\"Chunk: {i}\")\n",
    "        chunk_summarize = sumamrize_mT5_multilingual_XLSum(\n",
    "            chunk, \n",
    "            max_input_length=paragraph_length, \n",
    "            max_output_length=int(paragraph_length * percentage_output_length),\n",
    "            size_percent=percentage_output_length)\n",
    "        summary.append(chunk_summarize)\n",
    "    \n",
    "    summarize_results[str(paragraph_length)]: summary\n",
    "    print(f\"{time.time() - start_time} seconds\")\n"
   ]
  },
  {
   "cell_type": "code",
   "execution_count": 11,
   "metadata": {},
   "outputs": [
    {
     "name": "stdout",
     "output_type": "stream",
     "text": [
      "2763\n"
     ]
    }
   ],
   "source": [
    "print(len(ARTICLE))"
   ]
  },
  {
   "cell_type": "markdown",
   "metadata": {},
   "source": [
    "### OpenAI"
   ]
  },
  {
   "cell_type": "code",
   "execution_count": 12,
   "metadata": {},
   "outputs": [],
   "source": [
    "import openai\n",
    "import yaml"
   ]
  },
  {
   "cell_type": "code",
   "execution_count": 13,
   "metadata": {},
   "outputs": [],
   "source": [
    "# https://beta.openai.com/account/api-keys\n",
    "with open('openai_credentials.yaml') as f:\n",
    "    openai.api_key = yaml.load(f, Loader=yaml.loader.SafeLoader)['OPEN_API_KEY']"
   ]
  },
  {
   "cell_type": "code",
   "execution_count": 17,
   "metadata": {},
   "outputs": [],
   "source": [
    "# https://beta.openai.com/docs/api-reference/completions/create\n",
    "\n",
    "# positive value of \"frequency_penalty\" and \"presence_penalty\" are the key\n",
    "# also we reduce temperature to avoid \"creativity\" of model (to tune temperature or top_k, but not both)\n",
    "\"\"\"\n",
    "response = openai.Completion.create(\n",
    "  model=\"text-davinci-003\",\n",
    "  prompt=\"Genérame una noticia larga a partir de este texto: '\" + ARTICLE + \"'\",\n",
    "  temperature=0.7,\n",
    "  max_tokens=2048,\n",
    "  top_p=1,\n",
    "  frequency_penalty=0,\n",
    "  presence_penalty=0\n",
    ")\n",
    "\"\"\"\n",
    "response = openai.Completion.create(\n",
    "  model=\"text-davinci-003\",\n",
    "  prompt=\"Genérame una noticia larga a partir de este texto: '\" + ARTICLE + \"'\",\n",
    "  temperature=0.5,\n",
    "  max_tokens=2048,\n",
    "  top_p=1,\n",
    "  frequency_penalty=0.5,\n",
    "  presence_penalty=0.5\n",
    ")"
   ]
  },
  {
   "cell_type": "code",
   "execution_count": 15,
   "metadata": {},
   "outputs": [
    {
     "data": {
      "text/plain": [
       "'\\n\\nEl presidente de Ucrania, Volodimir Zelenski, confirmó este miércoles que viajará a Estados Unidos para reunirse con el mandatario estadounidense, Joe Biden, y ofrecer un discurso en el pleno del Congreso. La visita se realizará el 21 de diciembre y durante la misma Biden anunciará un nuevo paquete de ayuda militar a Ucrania por valor de 2.000 millones de dólares para defenderse de la agresión rusa.\\n\\nEsta es la primera visita al extranjero del mandatario ucraniano desde que su país fue invadido hace más de 300 días. Según confirmó la portavoz de la Casa Blanca, Karine Jean-Pierre, el presidente Biden espera darle la bienvenida en la Casa Blanca y mantendrán una conversación antes de que Zelenski hable ante los legisladores en el pleno del Congreso.\\n\\nAdemás del paquete económico y armamentista para Ucrania, se incluirá un sistema de defensa antimisiles muy eficaz que Kiev llevaba tiempo solicitando a Washington: una batería de misiles Patriot. El ministro ucraniano de Defensa, Oleksii Reznikov, también aseguró que el país ha firmado numerosos contratos con otras naciones para disponer de armas durante todos los meses del próximo año 2023. \\n\\nLa visita del presidente ucraniano a Estados Unidos es crucial para fortalecer las capacidades militares y políticas necesarias para resistir frente a las amenazas externas que sufre Ucrania desde hace más de 300 días. Los dos líderes buscarán acuerdos comerciales e inversiones conjuntas entre ambos países para mejorar sus relaciones diplomáticas así como avanzar hacia un futuro pacífico y libre en Europa Oriental.'"
      ]
     },
     "execution_count": 15,
     "metadata": {},
     "output_type": "execute_result"
    }
   ],
   "source": [
    "response['choices'][0]['text']"
   ]
  },
  {
   "cell_type": "code",
   "execution_count": 16,
   "metadata": {},
   "outputs": [
    {
     "data": {
      "text/plain": [
       "'\\n\\nReznikov explicó que se espera que el número de tropas rusas desplazadas a la frontera con Ucrania aumente en los próximos meses debido al despliegue de misiles en el este de Europa, aunque no confirmó si esa amenaza está relacionada con el envío de armas estadounidenses a Ucrania.\\n\\nEl pasado mes de septiembre, Estados Unidos anunció que enviaría ayuda militar a Ucrania por valor de 250 millones de dólares, que incluía misiles Javelin, un sistema de defensa antiaérea y munición para armas ligeras.\\n\\nEl conflicto en el este de Ucrania se ha saldado con más de 14.000 muertos desde que comenzó en abril de 2014, según datos de la ONU.\\n\\nZelenski, de camino a EE.UU. para reunirse con Biden y dar un discurso ante el Congreso de ese país. Durante la visita, Biden anunciará el envío de un nuevo paquete de ayuda militar a Ucrania por valor de 2.000 millones de dólares, que incluirá una batería de misiles Patriot, un sistema de defensa antimisiles muy eficaz que Kiev lleva tiempo solicitando a Washington. Estados Unidos es el principal aliado de Ucrania en el conflicto abierto con Rusia y ha aprobado en los últimos meses varios millonarios paquetes en ayuda económica y armamento para ayudar a Kiev en su defensa ante la invasión militar rusa.'"
      ]
     },
     "execution_count": 16,
     "metadata": {},
     "output_type": "execute_result"
    }
   ],
   "source": [
    "response_2 = openai.Completion.create(\n",
    "  model=\"text-davinci-002\",\n",
    "  prompt=\"hazme un resúmen largo de esta noticia: \" + ARTICLE,\n",
    "  temperature=0.7,\n",
    "  max_tokens=2048,\n",
    "  top_p=1,\n",
    "  frequency_penalty=0,\n",
    "  presence_penalty=0\n",
    ")\n",
    "response_2['choices'][0]['text']"
   ]
  },
  {
   "cell_type": "markdown",
   "metadata": {},
   "source": [
    "text-davinci-003 es una pasada"
   ]
  },
  {
   "cell_type": "code",
   "execution_count": null,
   "metadata": {},
   "outputs": [],
   "source": []
  }
 ],
 "metadata": {
  "kernelspec": {
   "display_name": ".venv",
   "language": "python",
   "name": "python3"
  },
  "language_info": {
   "codemirror_mode": {
    "name": "ipython",
    "version": 3
   },
   "file_extension": ".py",
   "mimetype": "text/x-python",
   "name": "python",
   "nbconvert_exporter": "python",
   "pygments_lexer": "ipython3",
   "version": "3.10.0"
  },
  "vscode": {
   "interpreter": {
    "hash": "f5ba7a6c16a720a8fcfcd34bdaadf5cdbc49ba027e19047b36704b1ce47dc83d"
   }
  }
 },
 "nbformat": 4,
 "nbformat_minor": 2
}
