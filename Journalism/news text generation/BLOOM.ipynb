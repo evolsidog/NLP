{
 "cells": [
  {
   "cell_type": "code",
   "execution_count": 1,
   "id": "4260bf8f",
   "metadata": {},
   "outputs": [],
   "source": [
    "# bloom (https://towardsdatascience.com/getting-started-with-bloom-9e3295459b65)"
   ]
  },
  {
   "cell_type": "code",
   "execution_count": 2,
   "id": "2d2ca4d8",
   "metadata": {},
   "outputs": [
    {
     "name": "stderr",
     "output_type": "stream",
     "text": [
      "c:\\Users\\victor.cordero\\Documents\\DataScience\\POCs\\.venv\\lib\\site-packages\\tqdm\\auto.py:22: TqdmWarning: IProgress not found. Please update jupyter and ipywidgets. See https://ipywidgets.readthedocs.io/en/stable/user_install.html\n",
      "  from .autonotebook import tqdm as notebook_tqdm\n"
     ]
    }
   ],
   "source": [
    "from transformers import BloomForCausalLM, BloomTokenizerFast"
   ]
  },
  {
   "cell_type": "code",
   "execution_count": 3,
   "id": "0fa5634d",
   "metadata": {},
   "outputs": [
    {
     "name": "stderr",
     "output_type": "stream",
     "text": [
      "Downloading: 100%|██████████| 222/222 [00:00<00:00, 111kB/s]\n",
      "c:\\Users\\victor.cordero\\Documents\\DataScience\\POCs\\.venv\\lib\\site-packages\\huggingface_hub\\file_download.py:127: UserWarning: `huggingface_hub` cache-system uses symlinks by default to efficiently store duplicated files but your machine does not support them in C:\\Users\\victor.cordero\\.cache\\huggingface\\hub. Caching files will still work but in a degraded version that might require more space on your disk. This warning can be disabled by setting the `HF_HUB_DISABLE_SYMLINKS_WARNING` environment variable. For more details, see https://huggingface.co/docs/huggingface_hub/how-to-cache#limitations.\n",
      "To support symlinks on Windows, you either need to activate Developer Mode or to run Python as an administrator. In order to see activate developer mode, see this article: https://docs.microsoft.com/en-us/windows/apps/get-started/enable-your-device-for-development\n",
      "  warnings.warn(message)\n",
      "Downloading: 100%|██████████| 14.5M/14.5M [00:01<00:00, 11.7MB/s]\n",
      "Downloading: 100%|██████████| 85.0/85.0 [00:00<00:00, 85.0kB/s]\n"
     ]
    }
   ],
   "source": [
    "tokenizer_bloom = BloomTokenizerFast.from_pretrained(\"bigscience/bloom-560m\")"
   ]
  },
  {
   "cell_type": "code",
   "execution_count": 4,
   "id": "52c55e14",
   "metadata": {},
   "outputs": [
    {
     "name": "stderr",
     "output_type": "stream",
     "text": [
      "Downloading: 100%|██████████| 688/688 [00:00<00:00, 344kB/s]\n",
      "Downloading: 100%|██████████| 1.12G/1.12G [01:32<00:00, 12.1MB/s]\n"
     ]
    }
   ],
   "source": [
    "model_bloom = BloomForCausalLM.from_pretrained(\"bigscience/bloom-560m\")"
   ]
  },
  {
   "cell_type": "code",
   "execution_count": 5,
   "id": "0f5a61d2",
   "metadata": {},
   "outputs": [
    {
     "data": {
      "text/plain": [
       "'\\nprint(tokenizer_bloom.decode(model_bloom.generate(inputs[\"input_ids\"],\\n                       max_length=result_length, \\n                       do_sample=True, \\n                       top_k=50, \\n                       top_p=0.9\\n                      )[0]))\\n'"
      ]
     },
     "execution_count": 5,
     "metadata": {},
     "output_type": "execute_result"
    }
   ],
   "source": [
    "# Sampling Top-k + Top-p\n",
    "\"\"\"\n",
    "print(tokenizer_bloom.decode(model_bloom.generate(inputs[\"input_ids\"],\n",
    "                       max_length=result_length, \n",
    "                       do_sample=True, \n",
    "                       top_k=50, \n",
    "                       top_p=0.9\n",
    "                      )[0]))\n",
    "\"\"\""
   ]
  },
  {
   "cell_type": "code",
   "execution_count": 6,
   "id": "62099876",
   "metadata": {},
   "outputs": [],
   "source": [
    "def generate_text(text, result_length, mode=\"sampling_top_k_top_p\"):\n",
    "    inputs = tokenizer_bloom(text, return_tensors=\"pt\")\n",
    "    \n",
    "    if mode == \"greedy\":\n",
    "        outputs = model_bloom.generate(\n",
    "            inputs[\"input_ids\"], \n",
    "            max_length=result_length)\n",
    "    elif mode == \"beam\":\n",
    "        outputs = model_bloom.generate(\n",
    "            inputs[\"input_ids\"],\n",
    "            max_length=result_length, \n",
    "            num_beams=2, \n",
    "            no_repeat_ngram_size=2,\n",
    "            early_stopping=True)\n",
    "    elif mode == \"sampling_top_k_top_p\":\n",
    "        outputs = model_bloom.generate(\n",
    "            inputs[\"input_ids\"],\n",
    "            max_length=result_length, \n",
    "            do_sample=True, \n",
    "            top_k=50, \n",
    "            top_p=0.9)\n",
    "        \n",
    "    outputs_str = tokenizer_bloom.decode(outputs[0])\n",
    "    \n",
    "    return outputs_str"
   ]
  },
  {
   "cell_type": "code",
   "execution_count": 7,
   "id": "3957ea33",
   "metadata": {},
   "outputs": [
    {
     "data": {
      "text/plain": [
       "'It was a dark and stormy night. I was tired and my eyes swollen. I went to bed with an unhealthy headache. I lay there all night in bed. And the day came! It happened on a Sunday afternoon and my husband was up. They were so tired and tired, but not tired. It was raining! I was a little scared and I had to wait. The whole place was gloomy, and it rained for four days!\\nAfter that, we were all exhausted! But it was raining and it was a dark and stormy day. It was the same day that my husband'"
      ]
     },
     "execution_count": 7,
     "metadata": {},
     "output_type": "execute_result"
    }
   ],
   "source": [
    "prompt = \"It was a dark and stormy night\"\n",
    "# prompt =\"Real Madrid - Barcelona, jornada 5, empate 1-1, aburrido, goles Benzema y lewandowski\"\n",
    "result_length = 128\n",
    "generate_text(text=prompt, result_length=result_length, mode=\"sampling_top_k_top_p\")"
   ]
  },
  {
   "cell_type": "code",
   "execution_count": 8,
   "id": "f6c22cff",
   "metadata": {},
   "outputs": [
    {
     "data": {
      "text/plain": [
       "'Real Madrid - Barcelona, jornada 5, empate 1-1, aburrido, goles Benzema y lewandowski en un partido a domicilio.\\nDiario de Avisos.- El Gobierno no ha hecho nada y, en lugar de frenar la actual crisis, ha decidido paralizar la campaña de vacunación, lo que pone en riesgo la salud y los ingresos de los ciudadanos que se hayan vacunado. El Gobierno ha paralizado la campaña de vacunación contra el Covid-19 y, de no ser así, se anunciará en un breve plazo. El Gobierno no hizo nada en el mes de diciembre para frenar la pandemia y, en lugar de frenarla, ha decidido'"
      ]
     },
     "execution_count": 8,
     "metadata": {},
     "output_type": "execute_result"
    }
   ],
   "source": [
    "prompt = \"Real Madrid - Barcelona, jornada 5, empate 1-1, aburrido, goles Benzema y lewandowski\"\n",
    "# prompt =\"Real Madrid - Barcelona, jornada 5, empate 1-1, aburrido, goles Benzema y lewandowski\"\n",
    "result_length = 128\n",
    "generate_text(text=prompt, result_length=result_length, mode=\"sampling_top_k_top_p\")"
   ]
  },
  {
   "cell_type": "code",
   "execution_count": 11,
   "id": "aefc7b3b",
   "metadata": {},
   "outputs": [
    {
     "name": "stderr",
     "output_type": "stream",
     "text": [
      "Input length of input_ids is 555, but `max_length` is set to 128. This can lead to unexpected behavior. You should consider increasing `max_new_tokens`.\n"
     ]
    },
    {
     "data": {
      "text/plain": [
       "'hazme un resumen de esta noticia: \"Volodimir Zelenski confirma que viaja a EE.UU. para reunirse con Joe Biden\\n21 diciembre 2022\\n\\nLeópolis (Ucrania) (EFE).- El presidente de Ucrania, Volodimir Zelenski, confirmó este miércoles que viaja a Estados Unidos para reunirse con el mandatario estadounidense, Joe Biden, y ofrecer un discurso en el pleno del Congreso de ese país.\\n\\n«De camino a EE. UU. para fortalecer la resiliencia y las capacidades de defensa de Ucrania», aseguró Zelenski en su cuenta de Twitter, en la que también confirmó que mantendrá una reunión con Biden.\\n\\n«Discutiré la cooperación entre Ucrania y Estados Unidos. También tendré un discurso en el Congreso y una serie de reuniones bilaterales», precisó el mandatario.\\n\\nSe trata de la primera visita al extranjero del mandatario ucraniano desde que su país fue invadido el pasado 24 de febrero, en un conflicto que acaba de superar los 300 días.\\n\\nLa Casa Blanca había anunciado previamente la visita de Zelenski y la intervención del líder ucraniano en una sesión conjunta de las dos Cámaras del Congreso de los Estados Unidos.\\n\\n«El presidente Biden espera dar la bienvenida hoy, 21 de diciembre, al presidente Zelenski en la Casa Blanca», explicó la portavoz de la Casa Blanca, Karine Jean-Pierre.\\n\\nLa portavoz también confirmó que durante esta visita Biden anunciará un nuevo paquete de ayuda a Ucrania para que pueda «defenderse de la agresión rusa».\\n\\nUn funcionario de alto nivel de la administración estadounidense confirmó en una llamada con los periodistas que Zelenski solo estará «unas pocas horas» en Washington y mantendrá una conversación con Biden en la Casa Blanca para después hablar ante los legisladores en el pleno del Congreso del país.\\n\\nDurante la visita, el mandatario estadounidense anunciará el envío de un nuevo paquete de ayuda militar a Ucrania por valor de 2.000 millones de dólares, que incluirá una batería de misiles Patriot, un sistema de defensa antimisiles muy eficaz que Kiev lleva tiempo solicitando a Washington.\\n\\nEstados Unidos es el principal aliado de Ucrania en el conflicto abierto con Rusia y ha aprobado en los últimos meses varios millonarios paquetes en ayuda económica y armamento para ayudar a Kiev en su defensa ante la invasión militar rusa.\\n\\nUcrania se asegura el suministro de armas para todo 2023, según Defensa\\nUcrania recibirá las armas y municiones necesarias durante todos los meses del próximo año 2023 para luchar contra la invasión rusa, aseguró este miércoles Oleksii Reznikov, ministro de Defensa de Ucrania.\\n\\nDurante un programa especial emitido por las cadenas de televisión ucranianas y que recoge la agencia Interfax-Ukraine, el responsable de Defensa señaló que el país ha firmado numerosos contratos con otras naciones para disponer de armas en los próximos meses.\"\\n\"El'"
      ]
     },
     "execution_count": 11,
     "metadata": {},
     "output_type": "execute_result"
    }
   ],
   "source": [
    "prompt = \"\"\"hazme un resumen de esta noticia: \"Volodimir Zelenski confirma que viaja a EE.UU. para reunirse con Joe Biden\n",
    "21 diciembre 2022\n",
    "\n",
    "Leópolis (Ucrania) (EFE).- El presidente de Ucrania, Volodimir Zelenski, confirmó este miércoles que viaja a Estados Unidos para reunirse con el mandatario estadounidense, Joe Biden, y ofrecer un discurso en el pleno del Congreso de ese país.\n",
    "\n",
    "«De camino a EE. UU. para fortalecer la resiliencia y las capacidades de defensa de Ucrania», aseguró Zelenski en su cuenta de Twitter, en la que también confirmó que mantendrá una reunión con Biden.\n",
    "\n",
    "«Discutiré la cooperación entre Ucrania y Estados Unidos. También tendré un discurso en el Congreso y una serie de reuniones bilaterales», precisó el mandatario.\n",
    "\n",
    "Se trata de la primera visita al extranjero del mandatario ucraniano desde que su país fue invadido el pasado 24 de febrero, en un conflicto que acaba de superar los 300 días.\n",
    "\n",
    "La Casa Blanca había anunciado previamente la visita de Zelenski y la intervención del líder ucraniano en una sesión conjunta de las dos Cámaras del Congreso de los Estados Unidos.\n",
    "\n",
    "«El presidente Biden espera dar la bienvenida hoy, 21 de diciembre, al presidente Zelenski en la Casa Blanca», explicó la portavoz de la Casa Blanca, Karine Jean-Pierre.\n",
    "\n",
    "La portavoz también confirmó que durante esta visita Biden anunciará un nuevo paquete de ayuda a Ucrania para que pueda «defenderse de la agresión rusa».\n",
    "\n",
    "Un funcionario de alto nivel de la administración estadounidense confirmó en una llamada con los periodistas que Zelenski solo estará «unas pocas horas» en Washington y mantendrá una conversación con Biden en la Casa Blanca para después hablar ante los legisladores en el pleno del Congreso del país.\n",
    "\n",
    "Durante la visita, el mandatario estadounidense anunciará el envío de un nuevo paquete de ayuda militar a Ucrania por valor de 2.000 millones de dólares, que incluirá una batería de misiles Patriot, un sistema de defensa antimisiles muy eficaz que Kiev lleva tiempo solicitando a Washington.\n",
    "\n",
    "Estados Unidos es el principal aliado de Ucrania en el conflicto abierto con Rusia y ha aprobado en los últimos meses varios millonarios paquetes en ayuda económica y armamento para ayudar a Kiev en su defensa ante la invasión militar rusa.\n",
    "\n",
    "Ucrania se asegura el suministro de armas para todo 2023, según Defensa\n",
    "Ucrania recibirá las armas y municiones necesarias durante todos los meses del próximo año 2023 para luchar contra la invasión rusa, aseguró este miércoles Oleksii Reznikov, ministro de Defensa de Ucrania.\n",
    "\n",
    "Durante un programa especial emitido por las cadenas de televisión ucranianas y que recoge la agencia Interfax-Ukraine, el responsable de Defensa señaló que el país ha firmado numerosos contratos con otras naciones para disponer de armas en los próximos meses.\"\n",
    "\"\"\"\n",
    "result_length = 128\n",
    "generate_text(text=prompt, result_length=result_length, mode=\"sampling_top_k_top_p\")"
   ]
  },
  {
   "cell_type": "code",
   "execution_count": null,
   "id": "1a1e12a8",
   "metadata": {},
   "outputs": [],
   "source": []
  }
 ],
 "metadata": {
  "kernelspec": {
   "display_name": ".venv",
   "language": "python",
   "name": "python3"
  },
  "language_info": {
   "codemirror_mode": {
    "name": "ipython",
    "version": 3
   },
   "file_extension": ".py",
   "mimetype": "text/x-python",
   "name": "python",
   "nbconvert_exporter": "python",
   "pygments_lexer": "ipython3",
   "version": "3.10.0"
  },
  "vscode": {
   "interpreter": {
    "hash": "f5ba7a6c16a720a8fcfcd34bdaadf5cdbc49ba027e19047b36704b1ce47dc83d"
   }
  }
 },
 "nbformat": 4,
 "nbformat_minor": 5
}
